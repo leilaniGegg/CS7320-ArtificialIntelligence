{
  "cells": [
    {
      "cell_type": "markdown",
      "metadata": {
        "id": "uZhSp8-PsAsq"
      },
      "source": [
        "# Intelligent Agents: Reflex-Based Agents for the Vacuum-cleaner World\n",
        "\n",
        "Student Name: Leilani Guzman\n",
        "\n",
        "## Instructions\n",
        "\n",
        "Total Points: Undergrads 100 / Graduate students 110\n",
        "\n",
        "Complete this notebook. Use the provided notebook cells and insert additional code and markdown cells as needed. Submit the completely rendered notebook as a PDF file.\n",
        "\n",
        "## Introduction\n",
        "\n",
        "In this assignment you will implement a simulator environment for an automatic vacuum cleaner robot, a set of different reflex-based agent programs, and perform a comparison study for cleaning a single room. Focus on the __cleaning phase__ which starts when the robot is activated and ends when the last dirty square in the room has been cleaned. Someone else will take care of the agent program needed to navigate back to the charging station after the room is clean.\n",
        "\n",
        "## PEAS description of the cleaning phase\n",
        "\n",
        "__Performance Measure:__ Each action costs 1 energy unit. The performance is measured as the sum of the energy units used to clean the whole room.\n",
        "\n",
        "__Environment:__ A room with $n \\times n$ squares where $n = 5$. Dirt is randomly placed on each square with probability $p = 0.2$. For simplicity, you can assume that the agent knows the size and the layout of the room (i.e., it knows $n$). To start, the agent is placed on a random square.\n",
        "\n",
        "__Actuators:__ The agent can clean the current square (action `suck`) or move to an adjacent square by going `north`, `east`, `south`, or `west`.\n",
        "\n",
        "__Sensors:__ Four bumper sensors, one for north, east, south, and west; a dirt sensor reporting dirt in the current square.  \n",
        "\n",
        "\n",
        "## The agent program for a simple randomized agent\n",
        "\n",
        "The agent program is a function that gets sensor information (the current percepts) as the arguments. The arguments are:\n",
        "\n",
        "* A dictionary with boolean entries for the for bumper sensors `north`, `east`, `west`, `south`. E.g., if the agent is on the north-west corner, `bumpers` will be `{\"north\" : True, \"east\" : False, \"south\" : False, \"west\" : True}`.\n",
        "* The dirt sensor produces a boolean.\n",
        "\n",
        "The agent returns the chosen action as a string.\n",
        "\n",
        "Here is an example implementation for the agent program of a simple randomized agent:  "
      ]
    },
    {
      "cell_type": "code",
      "execution_count": 3,
      "metadata": {
        "id": "nFPtFz26sAss"
      },
      "outputs": [],
      "source": [
        "import numpy as np\n",
        "\n",
        "actions = [\"north\", \"east\", \"west\", \"south\", \"suck\"]\n",
        "\n",
        "def simple_randomized_agent(bumpers, dirty):\n",
        "    return np.random.choice(actions)"
      ]
    },
    {
      "cell_type": "code",
      "execution_count": 4,
      "metadata": {
        "id": "5Q25GWS9sAst",
        "outputId": "1a59a02d-7a45-4331-9852-b18fd5b2e327"
      },
      "outputs": [
        {
          "data": {
            "text/plain": [
              "'west'"
            ]
          },
          "execution_count": 4,
          "metadata": {},
          "output_type": "execute_result"
        }
      ],
      "source": [
        "# define percepts (current location is NW corner and it is dirty)\n",
        "bumpers = {\"north\" : True, \"east\" : False, \"south\" : False, \"west\" : True}\n",
        "dirty = True\n",
        "\n",
        "# call agent program function with percepts and it returns an action\n",
        "simple_randomized_agent(bumpers, dirty)"
      ]
    },
    {
      "cell_type": "markdown",
      "metadata": {
        "id": "tfBpa_MksAsu"
      },
      "source": [
        "__Note:__ This is not a rational intelligent agent. It ignores its sensors and may bump into a wall repeatedly or not clean a dirty square. You will be asked to implement rational agents below."
      ]
    },
    {
      "cell_type": "markdown",
      "metadata": {
        "id": "G2OHq9tRsAsu"
      },
      "source": [
        "## Simple environment example\n",
        "\n",
        "We implement a simple simulation environment that supplies the agent with its percepts.\n",
        "The simple environment is infinite in size (bumpers are always `False`) and every square is always dirty, even if the agent cleans it. The environment function returns a performance measure which is here the number of cleaned squares (since the room is infinite and all squares are constantly dirty, the agent can never clean the whole room as required in the PEAS description above). The energy budget of the agent is specified as `max_steps`."
      ]
    },
    {
      "cell_type": "code",
      "execution_count": 5,
      "metadata": {
        "id": "Qx8W2wM7sAsu"
      },
      "outputs": [],
      "source": [
        "def simple_environment(agent, max_steps, verbose = True):\n",
        "    num_cleaned = 0\n",
        "\n",
        "    for i in range(max_steps):\n",
        "        dirty = True\n",
        "        bumpers = {\"north\" : False, \"south\" : False, \"west\" : False, \"east\" : False}\n",
        "\n",
        "        action = agent(bumpers, dirty)\n",
        "        if (verbose): print(\"step\", i , \"- action:\", action)\n",
        "\n",
        "        if (action == \"suck\"):\n",
        "            num_cleaned = num_cleaned + 1\n",
        "\n",
        "    return num_cleaned"
      ]
    },
    {
      "cell_type": "markdown",
      "metadata": {
        "id": "PC-v7VC5sAsu"
      },
      "source": [
        "Do one simulation run with a simple randomized agent that has enough energy for 20 steps."
      ]
    },
    {
      "cell_type": "code",
      "execution_count": 6,
      "metadata": {
        "id": "Mm6LxbWIsAsu",
        "outputId": "56fe878b-0b27-4a32-8453-32777b1bfb80"
      },
      "outputs": [
        {
          "name": "stdout",
          "output_type": "stream",
          "text": [
            "step 0 - action: suck\n",
            "step 1 - action: east\n",
            "step 2 - action: north\n",
            "step 3 - action: west\n",
            "step 4 - action: east\n",
            "step 5 - action: north\n",
            "step 6 - action: west\n",
            "step 7 - action: west\n",
            "step 8 - action: suck\n",
            "step 9 - action: suck\n",
            "step 10 - action: north\n",
            "step 11 - action: west\n",
            "step 12 - action: north\n",
            "step 13 - action: suck\n",
            "step 14 - action: north\n",
            "step 15 - action: north\n",
            "step 16 - action: suck\n",
            "step 17 - action: north\n",
            "step 18 - action: suck\n",
            "step 19 - action: east\n"
          ]
        },
        {
          "data": {
            "text/plain": [
              "6"
            ]
          },
          "execution_count": 6,
          "metadata": {},
          "output_type": "execute_result"
        }
      ],
      "source": [
        "simple_environment(simple_randomized_agent, max_steps = 20)"
      ]
    },
    {
      "cell_type": "markdown",
      "metadata": {
        "id": "yNNTxSZrsAsu"
      },
      "source": [
        "# Tasks\n",
        "\n",
        "## General [10 Points]\n",
        "\n",
        "1. Make sure that you use the latest version of this notebook. Sync your forked repository and pull the latest revision.\n",
        "2. Your implementation can use libraries like math, numpy, scipy, but not libraries that implement inteligent agents or complete search algorithms. Try to keep the code simple! In this course, we want to learn about the algorithms and we often do not need to use object-oriented design.\n",
        "3. You notebook needs to be formated professionally.\n",
        "    - Add additional markdown blocks for your description, comments in the code, add tables and use mathplotlib to produce charts where appropriate\n",
        "    - Do not show debugging output or include an excessive amount of output.\n",
        "    - Check that your PDF file is readable. For example, long lines are cut off in the PDF file. You don't have control over page breaks, so do not worry about these.\n",
        "4. Document your code. Add a short discussion of how your implementation works and your design choices.\n",
        "\n",
        "\n",
        "## Task 1: Implement a simulation environment [20 Points]\n",
        "\n",
        "The simple environment above is not very realistic. Your environment simulator needs to follow the PEAS description from above. It needs to:\n",
        "\n",
        "* Initialize the environment by storing the state of each square (clean/dirty) and making some dirty. ([Help with random numbers and arrays in Python](https://github.com/mhahsler/CS7320-AI/blob/master/HOWTOs/random_numbers_and_arrays.ipynb))\n",
        "* Keep track of the agent's position.\n",
        "* Call the agent function repeatedly and provide the agent function with the sensor inputs.  \n",
        "* React to the agent's actions. E.g, by removing dirt from a square or moving the agent around unless there is a wall in the way.\n",
        "* Keep track of the performance measure. That is, track the agent's actions until all dirty squares are clean and count the number of actions it takes the agent to complete the task.\n",
        "\n",
        "The easiest implementation for the environment is to hold an 2-dimensional array to represent if squares are clean or dirty and to call the agent function in a loop until all squares are clean or a predefined number of steps have been reached (i.e., the robot runs out of energy).\n",
        "\n",
        "The simulation environment should be a function like the `simple_environment()` and needs to work with the simple randomized agent program from above. **Use the same environmnt for all your agent implementations in the tasks below.**\n",
        "\n",
        "*Note on debugging:* Debugging is difficult. Make sure your environment prints enough information when you use `verbose = True`. Also, implementing a function that the environment can use to displays the room with dirt and the current position of the robot at every step is very useful.  "
      ]
    },
    {
      "cell_type": "code",
      "execution_count": 73,
      "metadata": {
        "id": "TP-acKjHsAsv"
      },
      "outputs": [
        {
          "name": "stdout",
          "output_type": "stream",
          "text": [
            "======Room=====\n",
            "[[0 0 1 0 0]\n",
            " [0 1 0 0 0]\n",
            " [0 0 1 0 0]\n",
            " [0 0 0 1 0]\n",
            " [0 0 0 0 0]]\n"
          ]
        }
      ],
      "source": [
        "room_size = 5\n",
        "# Make the room\n",
        "room = np.random.choice([1, 0], size=(room_size, room_size), p=[0.2, 0.8]) #1 means dirty, 0 means clean\n",
        "room2 = room.copy()\n",
        "print(\"Room\".center(room_size +10, \"=\"))\n",
        "print(room)\n",
        "\n",
        "def simulation_environment(agent, room_size):\n",
        "    num_steps = 0\n",
        "    # # Make the room\n",
        "    # room = np.random.choice([1, 0], size=(room_size, room_size), p=[0.2, 0.8]) #1 means dirty, 0 means clean\n",
        "    print(\"Room\".center(room_size +10, \"=\"))\n",
        "    print(room)\n",
        "    dirty_spots_left = np.sum(room)\n",
        "    agent_location = [0,0] #x,y coordinates\n",
        "\n",
        "    bumpers = {\"north\" : True, \"south\" : False, \"west\" : True, \"east\" : False} #starting in topleft corner\n",
        "    while (dirty_spots_left > 0):\n",
        "        # the agent only knows if it is on a dirty spot or not, and bumper information to decide an action\n",
        "        action = agent(bumpers, room[agent_location[0], agent_location[1]])\n",
        "\n",
        "        print(\"step\", num_steps , \"- action:\", action)\n",
        "        if (action == \"suck\"):\n",
        "            dirty_spots_left = dirty_spots_left - 1\n",
        "            room[agent_location[0], agent_location[1]] = 0 #clean the spot\n",
        "        \n",
        "        #update agent location\n",
        "        if (action == \"north\"):\n",
        "            agent_location[0] = agent_location[0] - 1 #go up one row\n",
        "        elif (action == \"south\"):\n",
        "            agent_location[0] = agent_location[0] + 1 #go down one row\n",
        "        elif (action == \"east\"):\n",
        "            agent_location[1] = agent_location[1] + 1 #go right one column\n",
        "        elif (action == \"west\"):   \n",
        "            agent_location[1] = agent_location[1] - 1 #go left one column\n",
        "        \n",
        "        num_steps = num_steps + 1\n",
        "\n",
        "        #update bumpers\n",
        "        if (agent_location[1] == 0):\n",
        "            bumpers[\"west\"] = True          #0 x coordinate is the leftmost column/wall\n",
        "        else:\n",
        "            bumpers[\"west\"] = False\n",
        "        if (agent_location[1] == room_size - 1):\n",
        "            bumpers[\"east\"] = True          #room_size - 1 x coordinate is the rightmost column/wall\n",
        "        else:\n",
        "            bumpers[\"east\"] = False\n",
        "        if (agent_location[0] == 0):\n",
        "            bumpers[\"north\"] = True         # 0 y coordinate is the top row/wall\n",
        "        else:   \n",
        "            bumpers[\"north\"] = False\n",
        "        if (agent_location[0] == room_size - 1):\n",
        "            bumpers[\"south\"] = True         # room_size - 1 y coordinate is the bottom row/wall\n",
        "        else:\n",
        "            bumpers[\"south\"] = False\n",
        "        \n",
        "    \n",
        "    return num_steps\n",
        "        \n",
        "    "
      ]
    },
    {
      "cell_type": "markdown",
      "metadata": {
        "id": "ZVSpvepesAsv"
      },
      "source": [
        "## Task 2:  Implement a simple reflex agent [10 Points]\n",
        "\n",
        "The simple reflex agent randomly walks around but reacts to the bumper sensor by not bumping into the wall and to dirt with sucking. Implement the agent program as a function.\n",
        "\n",
        "_Note:_ Agents cannot directly use variable in the environment. They only gets the percepts as the arguments to the agent function."
      ]
    },
    {
      "cell_type": "code",
      "execution_count": 74,
      "metadata": {
        "id": "EXTPQ4l2sAsv"
      },
      "outputs": [
        {
          "name": "stdout",
          "output_type": "stream",
          "text": [
            "======Room=====\n",
            "[[0 0 1 0 0]\n",
            " [0 1 0 0 0]\n",
            " [0 0 1 0 0]\n",
            " [0 0 0 1 0]\n",
            " [0 0 0 0 0]]\n",
            "step 0 - action: south\n",
            "step 1 - action: east\n",
            "step 2 - action: suck\n",
            "step 3 - action: west\n",
            "step 4 - action: east\n",
            "step 5 - action: east\n",
            "step 6 - action: north\n",
            "step 7 - action: suck\n",
            "step 8 - action: south\n",
            "step 9 - action: north\n",
            "step 10 - action: south\n",
            "step 11 - action: suck\n",
            "step 12 - action: north\n",
            "step 13 - action: south\n",
            "step 14 - action: west\n",
            "step 15 - action: east\n",
            "step 16 - action: suck\n",
            "\n",
            "Total steps:  17\n"
          ]
        }
      ],
      "source": [
        "actions = [\"north\", \"east\", \"west\", \"south\", \"suck\"]\n",
        "\n",
        "def simple_reflex_agent(bumpers, dirty):\n",
        "    if (dirty):\n",
        "        return \"suck\"\n",
        "    else:\n",
        "        #basic reflexes, go opposite of the wall, if no wall go random\n",
        "        if (bumpers[\"north\"]):\n",
        "            return \"south\" \n",
        "        elif (bumpers[\"south\"]):\n",
        "            return \"north\"\n",
        "        elif (bumpers[\"east\"]):\n",
        "            return \"west\"\n",
        "        elif (bumpers[\"west\"]):\n",
        "            return \"east\"\n",
        "        else:\n",
        "            return np.random.choice(actions)\n",
        "\n",
        "print('\\nTotal steps: ' , simulation_environment(simple_reflex_agent, room_size))\n",
        "\n",
        "room = room2.copy()"
      ]
    },
    {
      "cell_type": "markdown",
      "metadata": {
        "id": "5keCWih_sAsv"
      },
      "source": [
        "## Task 3: Implement a model-based reflex agent [20 Points]\n",
        "\n",
        "Model-based agents use a state to keep track of what they have done and perceived so far. Your agent needs to find out where it is located and then keep track of its current location. You also need a set of rules based on the state and the percepts to make sure that the agent will clean the whole room. For example, the agent can move to a corner to determine its location and then it can navigate through the whole room and clean dirty squares.\n",
        "\n",
        "Describe how you define the __agent state__ and how your agent works before implementing it. ([Help with implementing state information on Python](https://github.com/mhahsler/CS7320-AI/blob/master/HOWTOs/store_agent_state_information.ipynb))"
      ]
    },
    {
      "cell_type": "code",
      "execution_count": 100,
      "metadata": {
        "id": "pUZabGk8sAsv"
      },
      "outputs": [],
      "source": [
        "# Your short description of the state and your implementation goes here"
      ]
    },
    {
      "cell_type": "code",
      "execution_count": 75,
      "metadata": {},
      "outputs": [
        {
          "name": "stdout",
          "output_type": "stream",
          "text": [
            "======Room=====\n",
            "[[0 0 1 0 0]\n",
            " [0 1 0 0 0]\n",
            " [0 0 1 0 0]\n",
            " [0 0 0 1 0]\n",
            " [0 0 0 0 0]]\n",
            "old spot:  (0, 0)\n",
            "current position:  [0, 1]\n",
            "step 0 - action: east\n",
            "old spot:  [0, 1]\n",
            "current position:  [0, 2]\n",
            "step 1 - action: east\n",
            "step 2 - action: suck\n",
            "old spot:  [0, 2]\n",
            "current position:  [0, 3]\n",
            "step 3 - action: east\n",
            "old spot:  [0, 3]\n",
            "current position:  [0, 4]\n",
            "step 4 - action: east\n",
            "old spot:  [0, 4]\n",
            "current position:  [1, 4]\n",
            "step 5 - action: south\n",
            "old spot:  [1, 4]\n",
            "current position:  [1, 3]\n",
            "step 6 - action: west\n",
            "old spot:  [1, 3]\n",
            "current position:  [1, 2]\n",
            "step 7 - action: west\n",
            "old spot:  [1, 2]\n",
            "current position:  [1, 1]\n",
            "step 8 - action: west\n",
            "step 9 - action: suck\n",
            "old spot:  [1, 1]\n",
            "current position:  [1, 0]\n",
            "step 10 - action: west\n",
            "old spot:  [1, 0]\n",
            "current position:  [2, 0]\n",
            "step 11 - action: south\n",
            "old spot:  [2, 0]\n",
            "current position:  [2, 1]\n",
            "step 12 - action: east\n",
            "old spot:  [2, 1]\n",
            "current position:  [2, 2]\n",
            "step 13 - action: east\n",
            "step 14 - action: suck\n",
            "old spot:  [2, 2]\n",
            "current position:  [2, 3]\n",
            "step 15 - action: east\n",
            "old spot:  [2, 3]\n",
            "current position:  [2, 4]\n",
            "step 16 - action: east\n",
            "old spot:  [2, 4]\n",
            "current position:  [3, 4]\n",
            "step 17 - action: south\n",
            "old spot:  [3, 4]\n",
            "current position:  [3, 3]\n",
            "step 18 - action: west\n",
            "step 19 - action: suck\n",
            "\n",
            "Total steps:  20\n"
          ]
        }
      ],
      "source": [
        "#Attempt #2\n",
        "#make a class for this agent to keep certain attributes across function calls\n",
        "class model_based_reflex_agent:\n",
        "    def __init__(self):\n",
        "        #need to use class variables to keep track of variables between each call from the environment\n",
        "        self.current_position = (0,0)\n",
        "        self.visited = []\n",
        "        self.not_visited_queue = []\n",
        "\n",
        "    def search(self, bumpers,dirty):\n",
        "        # BFS approach to clean the room\n",
        "        actions = {\"north\": [-1,0], \"south\" : [1,0], \"west\" : [0,-1], \"east\": [0,1]} #north, south, west, east\n",
        "\n",
        "        if(self.current_position not in self.visited):\n",
        "            self.visited.append(self.current_position) #add current position to visited list\n",
        "        # print(\"visited: \", self.visited)\n",
        "        #remove current position from not visited queue if it's there, without the if the remove option would throw an error\n",
        "        if (self.current_position in self.not_visited_queue):\n",
        "            self.not_visited_queue.remove(self.current_position)\n",
        "        \n",
        "        if dirty:\n",
        "            return \"suck\"\n",
        "        \n",
        "        #if not dirty then add adjacent spots to not visited queue\n",
        "        for potential_spot in actions:\n",
        "            #add the current position coordinate to the action coordinate to get the new spot\n",
        "            new_spot = [self.current_position[x] + actions[potential_spot][x] for x in range(len(self.current_position))]\n",
        "            \n",
        "            if (bumpers[potential_spot] == False and new_spot not in self.visited and new_spot[0] >= 0 and new_spot[0] < room_size and new_spot[1] >= 0 and new_spot[1] < room_size):\n",
        "                # print(\"new spots\", new_spot)\n",
        "                self.not_visited_queue.append(new_spot)\n",
        "        \n",
        "        # print(\"not visited queue: \", self.not_visited_queue)\n",
        "        old_spot = self.current_position\n",
        "        print(\"old spot: \", old_spot)\n",
        "        #make current position the last element of the queue\n",
        "        self.current_position = self.not_visited_queue[-1]\n",
        "        print(\"current position: \", self.current_position)\n",
        "        #return the direction to move (north, south, east, west)\n",
        "        if (self.current_position[0] > old_spot[0]):\n",
        "            return \"south\"\n",
        "        elif (self.current_position[0] < old_spot[0]):\n",
        "            return \"north\"\n",
        "        elif (self.current_position[1] > old_spot[1]):\n",
        "            return \"east\"\n",
        "        elif (self.current_position[1] < old_spot[1]):\n",
        "            return \"west\"\n",
        "\n",
        "\n",
        "\n",
        "smart_agent = model_based_reflex_agent()\n",
        "print('\\nTotal steps: ' , simulation_environment(smart_agent.search, room_size))"
      ]
    },
    {
      "cell_type": "markdown",
      "metadata": {
        "id": "L_O0z8NgsAsw"
      },
      "source": [
        "## Task 4: Simulation study [30 Points]\n",
        "\n",
        "Compare the performance (the performance measure is defined in the PEAS description above) of the agents using  environments of different size. E.g., $5 \\times 5$, $10 \\times 10$ and\n",
        "$100 \\times 100$. Use 100 random runs for each. Present the results using tables and graphs. Discuss the differences between the agents.\n",
        "([Help with charts and tables in Python](https://github.com/mhahsler/CS7320-AI/blob/master/HOWTOs/charts_and_tables.ipynb))"
      ]
    },
    {
      "cell_type": "code",
      "execution_count": null,
      "metadata": {
        "id": "tUrO5supsAsw"
      },
      "outputs": [],
      "source": [
        "# Your code goes here\n"
      ]
    },
    {
      "cell_type": "markdown",
      "metadata": {
        "id": "UoXXJvt1sAsw"
      },
      "source": [
        "Fill out the following table with the average performance measure for 100 random runs (you may also create this table with code):\n",
        "\n",
        "| Size     | Randomized Agent | Simple Reflex Agent | Model-based Reflex Agent |\n",
        "|----------|------------------|---------------------|--------------------------|\n",
        "| 5x5     | | | |\n",
        "| 10x10   | | | |\n",
        "| 100x100 | | | |\n",
        "\n",
        "Add charts to compare the performance of the different agents."
      ]
    },
    {
      "cell_type": "code",
      "execution_count": null,
      "metadata": {
        "id": "aljXjDRGsAsw"
      },
      "outputs": [],
      "source": [
        "# Your graphs and discussion of the results goes here"
      ]
    },
    {
      "cell_type": "markdown",
      "metadata": {
        "id": "ku1uJAL7sAsw"
      },
      "source": [
        "## Task 5: Robustness of the agent implementations [10 Points]\n",
        "\n",
        "Describe how **your agent implementations** will perform\n",
        "\n",
        "* if it is put into a rectangular room with unknown size,\n",
        "* if the cleaning area can have an iregular shape (e.g., a hallway connecting two rooms), or\n",
        "* if the room contains obstacles (i.e., squares that it cannot pass through and trigger the bumper sensors)."
      ]
    },
    {
      "cell_type": "code",
      "execution_count": null,
      "metadata": {
        "id": "2VjnVFmhsAsw"
      },
      "outputs": [],
      "source": [
        "# Answer goes here"
      ]
    },
    {
      "cell_type": "markdown",
      "metadata": {
        "id": "vEf9HThMsAsw"
      },
      "source": [
        "## Graduate student advanced task: Obstacles [10 Points]\n",
        "\n",
        "__Undergraduate students:__ This is a bonus task you can attempt if you like [+5 Bonus Points].\n",
        "\n",
        "1. Change your simulation environment tor run experiments for the following problem: Add random obstacle squares that also trigger the bumper sensor. The agent does not know where the obstacles are. Observe how this changes the performance of the three implementations.\n",
        "\n",
        "2. Describe what would need to be done to perform better with obstacles. Add code if you can."
      ]
    },
    {
      "cell_type": "code",
      "execution_count": null,
      "metadata": {
        "id": "OpWOnd6-sAsw"
      },
      "outputs": [],
      "source": [
        "# Your code and discussion goes here"
      ]
    },
    {
      "cell_type": "markdown",
      "metadata": {
        "id": "D5AZRE3zsAsw"
      },
      "source": [
        "## More advanced implementation tasks\n",
        "\n",
        "* __Agent for and environment with obstacles:__ Implement an agent for an environment where the agent does not know how large the environment is (we assume it is rectangular), where it starts or where the obstacles are. An option would be to always move to the closest unchecked/uncleaned square (note that this is actualy depth-first search).\n",
        "\n",
        "* __Utility-based agent:__ Change the environment for a $5 \\times 5$ room, so each square has a fixed probability of getting dirty again. For the implementation, we give the environment a 2-dimensional array of probabilities. The utility of a state is defined as the number of currebntly clean squares in the room. Implement a utility-based agent that maximizes the expected utility over one full charge which lasts for 100000 time steps. To do this, the agent needs to learn the probabilities with which different squares get dirty again. This is very tricky!"
      ]
    },
    {
      "cell_type": "code",
      "execution_count": null,
      "metadata": {
        "id": "VHclc3CRsAsw"
      },
      "outputs": [],
      "source": [
        "# Your ideas/code"
      ]
    }
  ],
  "metadata": {
    "colab": {
      "provenance": []
    },
    "kernelspec": {
      "display_name": "Python 3 (ipykernel)",
      "language": "python",
      "name": "python3"
    },
    "language_info": {
      "codemirror_mode": {
        "name": "ipython",
        "version": 3
      },
      "file_extension": ".py",
      "mimetype": "text/x-python",
      "name": "python",
      "nbconvert_exporter": "python",
      "pygments_lexer": "ipython3",
      "version": "3.8.17"
    },
    "toc-autonumbering": false
  },
  "nbformat": 4,
  "nbformat_minor": 0
}
