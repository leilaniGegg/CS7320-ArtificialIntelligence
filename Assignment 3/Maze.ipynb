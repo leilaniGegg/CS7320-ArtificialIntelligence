{
  "cells": [
    {
      "cell_type": "markdown",
      "metadata": {
        "id": "fN6yeuT7qUGA"
      },
      "source": [
        "# Search: Solving a Maze Using a Goal-based Agent\n",
        "\n",
        "Student Name: Leilani Guzman\n",
        "\n",
        "## Instructions\n",
        "\n",
        "Total Points: Undergrads 100 / Graduate students 110\n",
        "\n",
        "Complete this notebook. Use the provided notebook cells and insert additional code and markdown cells as needed. Submit the completely rendered notebook as a PDF file.\n",
        "\n",
        "\n",
        "## Introduction\n",
        "\n",
        "The agent has a map of the maze it is in and the environment is assumed to be **deterministic, discrete, and known.** The agent must use the map to plan a path through the maze from the starting location $S$ to the goal location $G$.  This is a planing exercise for a goal-based agent, so you do not need to implement an environment, just use the map to search for a path. Once the plan is made, the agent in a deterministic environment (i.e., the transition function is deterministic with the outcome of each state/action pair fixed and no randomness) can just follow the path and does not need to care about the percepts.\n",
        "This is also called an **[open-loop system](https://en.wikipedia.org/wiki/Open-loop_controller).**\n",
        "The execution phase is trivial and we do not implement it in this exercise.\n",
        "\n",
        "Tree search algorithm implementations that you find online and used in general algorithms courses have often a different aim. These algorithms assume that you already have a tree in memory. We are interested in dynamically creating a search tree with the aim of finding a good/the best path from the root noteto the goal state. Follow the pseudo code presented in the text book (and replicated in the slides) closely. Ideally, we would like to search only a small part of the maze, i.e., create a search tree with as few nodes as possible.\n",
        "\n",
        "Several mazes for this exercise are stored as text files. Here is the small example maze:"
      ]
    },
    {
      "cell_type": "code",
      "execution_count": 48,
      "metadata": {
        "id": "a6GTFOwwqUGE",
        "outputId": "9c2c766b-83a5-4566-9dd4-48636c1b77c5"
      },
      "outputs": [
        {
          "name": "stdout",
          "output_type": "stream",
          "text": [
            "XXXXXXXXXXXXXXXXXXXXXX\n",
            "X XX        X X      X\n",
            "X    XXXXXX X XXXXXX X\n",
            "XXXXXX     S  X      X\n",
            "X    X XXXXXX XX XXXXX\n",
            "X XXXX X         X   X\n",
            "X        XXX XXX   X X\n",
            "XXXXXXXXXX    XXXXXX X\n",
            "XG         XX        X\n",
            "XXXXXXXXXXXXXXXXXXXXXX\n",
            "\n"
          ]
        }
      ],
      "source": [
        "with open(\"./mazes/small_maze.txt\", \"r\") as f:\n",
        "    maze_str = f.read()\n",
        "print(maze_str)"
      ]
    },
    {
      "cell_type": "markdown",
      "metadata": {
        "id": "80Mxv-K8qUGG"
      },
      "source": [
        "__Note:__ The mazes above contains cycles and therefore the state space may not form proper trees unless cycles are prevented. Therfore, you will need to deal with cycle detection in your code."
      ]
    },
    {
      "cell_type": "markdown",
      "metadata": {
        "id": "IqcBQ-SOqUGG"
      },
      "source": [
        "## Parsing and pretty printing the maze\n",
        "\n",
        "The maze can also be displayed in color using code in the module [maze_helper.py](maze_helper.py). The code parses the string representing the maze and converts it into a `numpy` 2d array which you can use in your implementation. Position are represented as a 2-tuple of the form `(row, col)`."
      ]
    },
    {
      "cell_type": "code",
      "execution_count": 49,
      "metadata": {
        "id": "xod92iIlqUGG",
        "outputId": "b809d8c3-dba4-44a6-8680-1c046ca214f0",
        "tags": []
      },
      "outputs": [
        {
          "name": "stdout",
          "output_type": "stream",
          "text": [
            "Position(0,0): X\n",
            "Position(8,1): G\n"
          ]
        }
      ],
      "source": [
        "import maze_helper as mh\n",
        "\n",
        "maze = mh.parse_maze(maze_str)\n",
        "\n",
        "# look at a position in the maze by subsetting the 2d array\n",
        "print(\"Position(0,0):\", maze[0, 0])\n",
        "\n",
        "# there is also a helper function called `look(maze, pos)` available\n",
        "# which uses a 2-tuple for the position.\n",
        "print(\"Position(8,1):\", mh.look(maze, (8, 1)))"
      ]
    },
    {
      "cell_type": "markdown",
      "metadata": {
        "id": "sYnwk3ebqUGH"
      },
      "source": [
        "A helper function to visualize the maze is also available."
      ]
    },
    {
      "cell_type": "code",
      "execution_count": 50,
      "metadata": {
        "id": "tPnSSZI_qUGH",
        "outputId": "995ce46a-fb43-4190-cc32-fe6b17dbcf27"
      },
      "outputs": [
        {
          "data": {
            "image/png": "[encoded data removed]",
            "text/plain": [
              "<Figure size 640x480 with 1 Axes>"
            ]
          },
          "metadata": {
            "image/png": {
              "height": 269,
              "width": 534
            }
          },
          "output_type": "display_data"
        }
      ],
      "source": [
        "%matplotlib inline\n",
        "%config InlineBackend.figure_format = 'retina'\n",
        "# use higher resolution images in notebook\n",
        "\n",
        "mh.show_maze(maze)"
      ]
    },
    {
      "cell_type": "markdown",
      "metadata": {
        "id": "Q5JDHKExqUGI"
      },
      "source": [
        "Find the position of the start and the goal using the helper function `find_pos()`"
      ]
    },
    {
      "cell_type": "code",
      "execution_count": 51,
      "metadata": {
        "id": "Eww72lzuqUGI",
        "outputId": "a4a5906c-b70a-415a-e2bd-1194eb6d3fcb"
      },
      "outputs": [
        {
          "name": "stdout",
          "output_type": "stream",
          "text": [
            "Start location: (3, 11)\n",
            "Goal location: (8, 1)\n"
          ]
        }
      ],
      "source": [
        "print(\"Start location:\", mh.find_pos(maze, what = \"S\"))\n",
        "print(\"Goal location:\", mh.find_pos(maze, what = \"G\"))"
      ]
    },
    {
      "cell_type": "markdown",
      "metadata": {
        "id": "Ru5pDkV3qUGI"
      },
      "source": [
        "Helper function documentation."
      ]
    },
    {
      "cell_type": "code",
      "execution_count": 52,
      "metadata": {
        "id": "RqErdziGqUGJ",
        "outputId": "97f9ad33-ba9c-4ad9-85a9-f34d6a1af7e6"
      },
      "outputs": [
        {
          "name": "stdout",
          "output_type": "stream",
          "text": [
            "Help on module maze_helper:\n",
            "\n",
            "NAME\n",
            "    maze_helper\n",
            "\n",
            "DESCRIPTION\n",
            "    Code for the Maze Assignment by Michael Hahsler\n",
            "    Usage: \n",
            "        import maze_helper as mh\n",
            "        mh.show_some_mazes()\n",
            "\n",
            "FUNCTIONS\n",
            "    find_pos(maze, what='S')\n",
            "        Find start/goal in a maze and returns the first one. \n",
            "        Caution: there is no error checking!\n",
            "        \n",
            "        Parameters:\n",
            "        maze: a array with characters prodced by parse_maze()\n",
            "        what: the letter to be found ('S' for start and 'G' for goal)\n",
            "        \n",
            "        Returns:\n",
            "        a tupple (x, y) for the found position.\n",
            "    \n",
            "    look(maze, pos)\n",
            "        Look at the label of a square with the position as an array of the form (x, y).\n",
            "    \n",
            "    parse_maze(maze_str)\n",
            "        Convert a maze as a string into a 2d numpy array\n",
            "    \n",
            "    show_maze(maze, fontsize=10)\n",
            "        Display a (parsed) maze as an image.\n",
            "    \n",
            "    welcome()\n",
            "        Welcome message.\n",
            "\n",
            "FILE\n",
            "    c:\\users\\leila\\documents\\smu\\cs7320-artificialintelligence\\assignment 3\\maze_helper.py\n",
            "\n",
            "\n"
          ]
        }
      ],
      "source": [
        "help(mh)"
      ]
    },
    {
      "cell_type": "markdown",
      "metadata": {
        "id": "gTXH11XxqUGJ"
      },
      "source": [
        "## Tree structure\n",
        "\n",
        "Here is an implementation of the basic node structure for the search algorithms (see Fig 3.7 on page 73). I have added a method that extracts the path from the root node to the current node. It can be used to get the path when the search is completed."
      ]
    },
    {
      "cell_type": "code",
      "execution_count": 53,
      "metadata": {
        "id": "Re6MvSZiqUGJ"
      },
      "outputs": [],
      "source": [
        "class Node:\n",
        "    def __init__(self, pos, parent, action, cost):\n",
        "        self.pos = tuple(pos)    # the state; positions are (row,col)\n",
        "        self.parent = parent     # reference to parent node. None means root node.\n",
        "        self.action = action     # action used in the transition function (root node has None)\n",
        "        self.cost = cost         # for uniform cost this is the depth. It is also g(n) for A* search\n",
        "\n",
        "    def __str__(self):\n",
        "        return f\"Node - pos = {self.pos}; action = {self.action}; cost = {self.cost}\"\n",
        "\n",
        "    def get_path_from_root(self):\n",
        "        \"\"\"returns nodes on the path from the root to the current node.\"\"\"\n",
        "        node = self\n",
        "        path = [node]\n",
        "\n",
        "        while not node.parent is None:\n",
        "            node = node.parent\n",
        "            path.append(node)\n",
        "\n",
        "        path.reverse()\n",
        "\n",
        "        return(path)"
      ]
    },
    {
      "cell_type": "markdown",
      "metadata": {
        "id": "vLwnvN1ZqUGJ"
      },
      "source": [
        "If needed, then you can add more fields to the class like the heuristic value $h(n)$ or $f(n)$.\n",
        "\n",
        "Examples for how to create and use a tree and information on memory management can be found [here](../HOWTOs/trees.ipynb)."
      ]
    },
    {
      "cell_type": "markdown",
      "metadata": {
        "id": "nXpMlIrzqUGJ"
      },
      "source": [
        "# Tasks\n",
        "\n",
        "The goal is to:\n",
        "\n",
        "1. Implement the following search algorithms for solving different mazes:\n",
        "\n",
        "    - Breadth-first search (BFS)\n",
        "    - Depth-first search (DFS)\n",
        "    - Greedy best-first search (GBFS)\n",
        "    - A* search\n",
        "\n",
        "2. Run each of the above algorithms on the\n",
        "    - [small maze](small_maze.txt),\n",
        "    - [medium maze](medium_maze.txt),\n",
        "    - [large maze](large_maze.txt),\n",
        "    - [open maze](open_maze.txt),\n",
        "    - [wall maze](wall_maze.txt),\n",
        "    - [loops maze](loops_maze.txt),\n",
        "    - [empty maze](empty_maze.txt), and\n",
        "    - [empty 2_maze](empty_2_maze.txt).\n",
        "    \n",
        "3. For each problem instance and each search algorithm, report the following in a table:\n",
        "\n",
        "    - The solution and its path cost\n",
        "    - Total number of nodes expanded\n",
        "    - Maximum tree depth\n",
        "    - Maximum size of the frontier\n",
        "\n",
        "4. Display each solution by marking every maze square (or state) visited and the squares on the final path.\n",
        "\n",
        "## General [10 Points]\n",
        "\n",
        "1. Make sure that you use the latest version of this notebook. Sync your forked repository and pull the latest revision.\n",
        "2. Your implementation can use libraries like math, numpy, scipy, but not libraries that implement inteligent agents or complete search algorithms. Try to keep the code simple! In this course, we want to learn about the algorithms and we often do not need to use object-oriented design.\n",
        "3. You notebook needs to be formated professionally.\n",
        "    - Add additional markdown blocks for your description, comments in the code, add tables and use mathplotlib to produce charts where appropriate\n",
        "    - Do not show debugging output or include an excessive amount of output.\n",
        "    - Check that your PDF file is readable. For example, long lines are cut off in the PDF file. You don't have control over page breaks, so do not worry about these.\n",
        "4. Document your code. Add a short discussion of how your implementation works and your design choices."
      ]
    },
    {
      "cell_type": "markdown",
      "metadata": {
        "id": "RVQP2oQ0qUGK"
      },
      "source": [
        "## Task 1: Defining the search problem and determining the problem size [10 Points]\n",
        "\n",
        "Define the components of the search problem:\n",
        "\n",
        "* Initial state\n",
        "* Actions\n",
        "* Transition model\n",
        "* Goal state\n",
        "* Path cost\n",
        "\n",
        "Use verbal descriptions, variables and equations as appropriate.\n",
        "\n",
        "*Note:* You can swich the next block from code to Markdown and use formating."
      ]
    },
    {
      "cell_type": "markdown",
      "metadata": {
        "id": "Ka1DGZmBqUGK"
      },
      "source": [
        "### ANSWERS\n",
        "**Initial state**: the maze layout itself and the starting position of the agent.\n",
        "\n",
        "**Actions**: The only actions the agent can perform are {North, South, East, or West}. This set of actions is represented as set *A*.\n",
        "\n",
        "**Transition Model**: The function that determines the new position of the agent after performing a certain action\n",
        "\n",
        "**Gaoal State**: The goal state is the position of the goal (G) in the maze, represented as a coordinate (x,y) or (row, col)\n",
        "\n",
        "**Path Cost**: Each step the agent takes has a cost of 1. The path cost is the total number of steps it takes the agent to reach the goal state."
      ]
    },
    {
      "cell_type": "markdown",
      "metadata": {
        "id": "sp0pLwycqUGK"
      },
      "source": [
        "Give some estimates for the problem size:\n",
        "\n",
        "* $n$: state space size\n",
        "* $d$: depth of the optimal solution\n",
        "* $m$: maximum depth of tree\n",
        "* $b$: maximum branching factor\n",
        "\n",
        "Describe how you would determin these values for a given maze."
      ]
    },
    {
      "cell_type": "code",
      "execution_count": 54,
      "metadata": {
        "id": "1juMJwhTqUGK"
      },
      "outputs": [],
      "source": [
        "# Your answer goes here"
      ]
    },
    {
      "cell_type": "markdown",
      "metadata": {
        "id": "PoghKR2wqUGL"
      },
      "source": [
        "## Task 2: Uninformed search: Breadth-first and depth-first [40 Points]\n",
        "\n",
        "Implement these search strategies. Follow the pseudocode in the textbook/slides. You can use the tree structure shown above to extract the final path from your solution.\n",
        "\n",
        "__Notes:__\n",
        "* You can find maze solving implementations online that use the map to store information. While this is an effective idea for this two-dimensional navigation problem, it typically cannot be used for other search problems. Therefore, follow the textbook and only store information in the tree created during search, and use the `reached` and `frontier` data structures.\n",
        "* DSF can be implemented using the BFS tree search algorithm and simply changing the order in which the frontier is expanded (this is equivalent to best-first search with path length as the criterion to expand the next node). However, to take advantage of the significantly smaller memory footprint of DFS, you need to implement DFS in a different way without a `reached` data structure and by releasing the memory for nodes that are not needed anymore.\n",
        "* If DFS does not use a `reached` data structure, then its cycle checking abilities are limited. Remember, that DSF is incomplete if cycles cannot be prevented. You will see in your experiments that open spaces are a problem."
      ]
    },
    {
      "cell_type": "code",
      "execution_count": 106,
      "metadata": {
        "id": "mRzz3j_jqUGL"
      },
      "outputs": [],
      "source": [
        "########### BFS ###########\n",
        "# Need to return 'Path Cost', 'Number of Nodes Expanded', 'Max Tree Depth', ' Max Number of Nodes in Memory', 'Max Frontier Size'\n",
        "def bfs(maze, start, goal):\n",
        "    actions = {\"North\": (-1, 0), \"South\": (1, 0), \"East\": (0, 1), \"West\": (0, -1)}\n",
        "    max_tree_depth = 0\n",
        "    num_nodes_expanded = 0\n",
        "    max_frontier_size = 0\n",
        "    max_nodes_memory = 0\n",
        "    # Set the current node as the start node\n",
        "    current_node = Node(start, None, None, 0)\n",
        "\n",
        "    if current_node.pos == goal:\n",
        "        return current_node.get_path_from_root(), current_node.cost, num_nodes_expanded, max_tree_depth, max_nodes_memory, max_frontier_size\n",
        "    #create frontier queue with current node\n",
        "    frontier = [current_node]\n",
        "    reached = [current_node.pos]\n",
        "    while frontier:\n",
        "        num_nodes_expanded += 1\n",
        "        max_nodes_memory += 1\n",
        "        current_node = frontier.pop(0)\n",
        "        # For each possibe neighbor of current node\n",
        "        for action in actions:\n",
        "            #get neighbor position if it is not a wall\n",
        "            neighbor_pos = (current_node.pos[0] + actions[action][0], current_node.pos[1] + actions[action][1])\n",
        "            if neighbor_pos in reached or mh.look(maze, neighbor_pos) == \"X\":\n",
        "                continue\n",
        "            # Create neighbor node\n",
        "            neighbor_node = Node(neighbor_pos, current_node, action, current_node.cost + 1)\n",
        "            max_nodes_memory += 1\n",
        "            # Adjust max tree depth\n",
        "            if neighbor_node.cost > max_tree_depth:\n",
        "                max_tree_depth = neighbor_node.cost\n",
        "            # Check if neighbor is goal\n",
        "            if neighbor_pos == goal:\n",
        "                return current_node.get_path_from_root(), current_node.cost, num_nodes_expanded-1, max_tree_depth, max_nodes_memory, max_frontier_size\n",
        "            # Add neighbor to reached and frontier\n",
        "            reached.append(neighbor_pos)\n",
        "            frontier.append(neighbor_node)\n",
        "            # Adjust max frontier size\n",
        "            if frontier.__len__() > max_frontier_size:\n",
        "                max_frontier_size = frontier.__len__()\n",
        "    return None "
      ]
    },
    {
      "cell_type": "code",
      "execution_count": 107,
      "metadata": {},
      "outputs": [
        {
          "data": {
            "image/png": "[encoded data removed]",
            "text/plain": [
              "<Figure size 640x480 with 1 Axes>"
            ]
          },
          "metadata": {
            "image/png": {
              "height": 352,
              "width": 543
            }
          },
          "output_type": "display_data"
        },
        {
          "name": "stdout",
          "output_type": "stream",
          "text": [
            "(1, 35) ; Action: None\n",
            "(2, 35) ; Action: South\n",
            "(3, 35) ; Action: South\n",
            "(4, 35) ; Action: South\n",
            "(5, 35) ; Action: South\n",
            "(6, 35) ; Action: South\n",
            "(6, 34) ; Action: West\n",
            "(6, 33) ; Action: West\n",
            "(6, 32) ; Action: West\n",
            "(6, 31) ; Action: West\n",
            "(6, 30) ; Action: West\n",
            "(6, 29) ; Action: West\n",
            "(6, 28) ; Action: West\n",
            "(6, 27) ; Action: West\n",
            "(6, 26) ; Action: West\n",
            "(6, 25) ; Action: West\n",
            "(6, 24) ; Action: West\n",
            "(6, 23) ; Action: West\n",
            "(6, 22) ; Action: West\n",
            "(6, 21) ; Action: West\n",
            "(6, 20) ; Action: West\n",
            "(6, 19) ; Action: West\n",
            "(7, 19) ; Action: South\n",
            "(8, 19) ; Action: South\n",
            "(9, 19) ; Action: South\n",
            "(10, 19) ; Action: South\n",
            "(11, 19) ; Action: South\n",
            "(12, 19) ; Action: South\n",
            "(13, 19) ; Action: South\n",
            "(14, 19) ; Action: South\n",
            "(15, 19) ; Action: South\n",
            "(16, 19) ; Action: South\n",
            "(17, 19) ; Action: South\n",
            "(18, 19) ; Action: South\n",
            "(19, 19) ; Action: South\n",
            "(20, 19) ; Action: South\n",
            "(21, 19) ; Action: South\n",
            "(21, 18) ; Action: West\n",
            "(21, 17) ; Action: West\n",
            "(21, 16) ; Action: West\n",
            "(21, 15) ; Action: West\n",
            "(21, 14) ; Action: West\n",
            "(21, 13) ; Action: West\n",
            "(21, 12) ; Action: West\n",
            "(21, 11) ; Action: West\n",
            "(21, 10) ; Action: West\n",
            "(21, 9) ; Action: West\n",
            "(21, 8) ; Action: West\n",
            "(21, 7) ; Action: West\n",
            "(21, 6) ; Action: West\n",
            "(21, 5) ; Action: West\n",
            "(21, 4) ; Action: West\n",
            "(21, 3) ; Action: West\n",
            "(21, 2) ; Action: West\n",
            "Path Cost: 53 ; Number of Nodes Expanded: 678 ; Max Tree Depth: 54 ; Max Number of Nodes in Memory: 1361 ; Max Frontier Size: 25\n"
          ]
        }
      ],
      "source": [
        "with open(\"./mazes/open_maze.txt\", \"r\") as f:\n",
        "    maze_str = f.read()\n",
        "maze = mh.parse_maze(maze_str)\n",
        "mh.show_maze(maze)\n",
        "\n",
        "result = bfs(maze, mh.find_pos(maze, \"S\"), mh.find_pos(maze, \"G\"))\n",
        "for node in result[0]:\n",
        "    print(node.pos, '; Action:', node.action)\n",
        "print('Path Cost:', result[1], '; Number of Nodes Expanded:', result[2], '; Max Tree Depth:', result[3], '; Max Number of Nodes in Memory:', result[4], '; Max Frontier Size:', result[5])"
      ]
    },
    {
      "cell_type": "code",
      "execution_count": 108,
      "metadata": {},
      "outputs": [],
      "source": [
        "import copy\n",
        "########### DFS ###########\n",
        "\n",
        "def is_cycle(node):\n",
        "    # Check for all cycles\n",
        "    #make deepy copy of node\n",
        "    temp_node = copy.deepcopy(node)\n",
        "    while temp_node.parent != None:\n",
        "        if temp_node.parent.pos == node.pos:\n",
        "            return True\n",
        "        temp_node = temp_node.parent\n",
        "    return False\n",
        "\n",
        "\n",
        "def dfs(maze, start, goal):\n",
        "    actions = {\"North\": (-1, 0), \"South\": (1, 0), \"East\": (0, 1), \"West\": (0, -1)}\n",
        "    max_tree_depth = 0\n",
        "    num_nodes_expanded = 0\n",
        "    max_frontier_size = 0\n",
        "    max_nodes_memory = 0\n",
        "\n",
        "    frontier = [Node(start, None, None, 0)]\n",
        "\n",
        "    while frontier:\n",
        "        num_nodes_expanded += 1\n",
        "        max_nodes_memory += 1\n",
        "        current_node = frontier.pop()\n",
        "\n",
        "        if current_node.pos == goal:\n",
        "            return current_node.get_path_from_root(), current_node.cost, num_nodes_expanded, max_tree_depth, max_nodes_memory, max_frontier_size\n",
        "        \n",
        "        if not is_cycle(current_node):\n",
        "            for action in actions:\n",
        "                #get neighbor position if it is not a wall\n",
        "                neighbor_pos = (current_node.pos[0] + actions[action][0], current_node.pos[1] + actions[action][1])\n",
        "                if mh.look(maze, neighbor_pos) != \"X\":\n",
        "                    # Create neighbor node\n",
        "                    neighbor_node = Node(neighbor_pos, current_node, action, current_node.cost + 1)\n",
        "                    max_nodes_memory += 1\n",
        "                    # Adjust max tree depth\n",
        "                    if neighbor_node.cost > max_tree_depth:\n",
        "                        max_tree_depth = neighbor_node.cost\n",
        "                    # Check if the neighbor is already in the frontier, if so remove it and add the new one\n",
        "                    for node in frontier:\n",
        "                        if node.pos == neighbor_node.pos:\n",
        "                            frontier.remove(node)\n",
        "                    # Add neighbor to frontier\n",
        "                    frontier.append(neighbor_node)\n",
        "                    # Adjust max frontier size\n",
        "                    if frontier.__len__() > max_frontier_size:\n",
        "                        max_frontier_size = frontier.__len__()\n",
        "    return None\n"
      ]
    },
    {
      "cell_type": "code",
      "execution_count": 109,
      "metadata": {},
      "outputs": [
        {
          "data": {
            "image/png": "[encoded data removed]",
            "text/plain": [
              "<Figure size 640x480 with 1 Axes>"
            ]
          },
          "metadata": {
            "image/png": {
              "height": 352,
              "width": 543
            }
          },
          "output_type": "display_data"
        },
        {
          "name": "stdout",
          "output_type": "stream",
          "text": [
            "(1, 35) ; Action: None\n",
            "(1, 34) ; Action: West\n",
            "(1, 33) ; Action: West\n",
            "(1, 32) ; Action: West\n",
            "(1, 31) ; Action: West\n",
            "(1, 30) ; Action: West\n",
            "(1, 29) ; Action: West\n",
            "(1, 28) ; Action: West\n",
            "(1, 27) ; Action: West\n",
            "(1, 26) ; Action: West\n",
            "(1, 25) ; Action: West\n",
            "(1, 24) ; Action: West\n",
            "(1, 23) ; Action: West\n",
            "(1, 22) ; Action: West\n",
            "(1, 21) ; Action: West\n",
            "(1, 20) ; Action: West\n",
            "(1, 19) ; Action: West\n",
            "(1, 18) ; Action: West\n",
            "(1, 17) ; Action: West\n",
            "(1, 16) ; Action: West\n",
            "(1, 15) ; Action: West\n",
            "(1, 14) ; Action: West\n",
            "(2, 14) ; Action: South\n",
            "(2, 15) ; Action: East\n",
            "(2, 16) ; Action: East\n",
            "(2, 17) ; Action: East\n",
            "(2, 18) ; Action: East\n",
            "(2, 19) ; Action: East\n",
            "(2, 20) ; Action: East\n",
            "(2, 21) ; Action: East\n",
            "(2, 22) ; Action: East\n",
            "(2, 23) ; Action: East\n",
            "(2, 24) ; Action: East\n",
            "(2, 25) ; Action: East\n",
            "(2, 26) ; Action: East\n",
            "(2, 27) ; Action: East\n",
            "(2, 28) ; Action: East\n",
            "(2, 29) ; Action: East\n",
            "(2, 30) ; Action: East\n",
            "(2, 31) ; Action: East\n",
            "(2, 32) ; Action: East\n",
            "(2, 33) ; Action: East\n",
            "(2, 34) ; Action: East\n",
            "(2, 35) ; Action: East\n",
            "(3, 35) ; Action: South\n",
            "(3, 34) ; Action: West\n",
            "(3, 33) ; Action: West\n",
            "(3, 32) ; Action: West\n",
            "(3, 31) ; Action: West\n",
            "(3, 30) ; Action: West\n",
            "(3, 29) ; Action: West\n",
            "(3, 28) ; Action: West\n",
            "(3, 27) ; Action: West\n",
            "(3, 26) ; Action: West\n",
            "(3, 25) ; Action: West\n",
            "(3, 24) ; Action: West\n",
            "(3, 23) ; Action: West\n",
            "(3, 22) ; Action: West\n",
            "(3, 21) ; Action: West\n",
            "(3, 20) ; Action: West\n",
            "(3, 19) ; Action: West\n",
            "(3, 18) ; Action: West\n",
            "(3, 17) ; Action: West\n",
            "(3, 16) ; Action: West\n",
            "(3, 15) ; Action: West\n",
            "(3, 14) ; Action: West\n",
            "(4, 14) ; Action: South\n",
            "(4, 15) ; Action: East\n",
            "(4, 16) ; Action: East\n",
            "(4, 17) ; Action: East\n",
            "(4, 18) ; Action: East\n",
            "(4, 19) ; Action: East\n",
            "(4, 20) ; Action: East\n",
            "(4, 21) ; Action: East\n",
            "(4, 22) ; Action: East\n",
            "(4, 23) ; Action: East\n",
            "(4, 24) ; Action: East\n",
            "(4, 25) ; Action: East\n",
            "(4, 26) ; Action: East\n",
            "(4, 27) ; Action: East\n",
            "(4, 28) ; Action: East\n",
            "(4, 29) ; Action: East\n",
            "(4, 30) ; Action: East\n",
            "(4, 31) ; Action: East\n",
            "(4, 32) ; Action: East\n",
            "(4, 33) ; Action: East\n",
            "(4, 34) ; Action: East\n",
            "(4, 35) ; Action: East\n",
            "(5, 35) ; Action: South\n",
            "(5, 34) ; Action: West\n",
            "(5, 33) ; Action: West\n",
            "(5, 32) ; Action: West\n",
            "(5, 31) ; Action: West\n",
            "(5, 30) ; Action: West\n",
            "(5, 29) ; Action: West\n",
            "(5, 28) ; Action: West\n",
            "(5, 27) ; Action: West\n",
            "(5, 26) ; Action: West\n",
            "(5, 25) ; Action: West\n",
            "(5, 24) ; Action: West\n",
            "(5, 23) ; Action: West\n",
            "(5, 22) ; Action: West\n",
            "(5, 21) ; Action: West\n",
            "(5, 20) ; Action: West\n",
            "(5, 19) ; Action: West\n",
            "(5, 18) ; Action: West\n",
            "(5, 17) ; Action: West\n",
            "(5, 16) ; Action: West\n",
            "(5, 15) ; Action: West\n",
            "(5, 14) ; Action: West\n",
            "(6, 14) ; Action: South\n",
            "(6, 15) ; Action: East\n",
            "(6, 16) ; Action: East\n",
            "(6, 17) ; Action: East\n",
            "(6, 18) ; Action: East\n",
            "(6, 19) ; Action: East\n",
            "(7, 19) ; Action: South\n",
            "(7, 18) ; Action: West\n",
            "(7, 17) ; Action: West\n",
            "(7, 16) ; Action: West\n",
            "(7, 15) ; Action: West\n",
            "(7, 14) ; Action: West\n",
            "(8, 14) ; Action: South\n",
            "(8, 15) ; Action: East\n",
            "(8, 16) ; Action: East\n",
            "(8, 17) ; Action: East\n",
            "(8, 18) ; Action: East\n",
            "(8, 19) ; Action: East\n",
            "(9, 19) ; Action: South\n",
            "(9, 18) ; Action: West\n",
            "(9, 17) ; Action: West\n",
            "(9, 16) ; Action: West\n",
            "(9, 15) ; Action: West\n",
            "(9, 14) ; Action: West\n",
            "(10, 14) ; Action: South\n",
            "(10, 15) ; Action: East\n",
            "(10, 16) ; Action: East\n",
            "(10, 17) ; Action: East\n",
            "(10, 18) ; Action: East\n",
            "(10, 19) ; Action: East\n",
            "(11, 19) ; Action: South\n",
            "(11, 18) ; Action: West\n",
            "(11, 17) ; Action: West\n",
            "(11, 16) ; Action: West\n",
            "(11, 15) ; Action: West\n",
            "(11, 14) ; Action: West\n",
            "(12, 14) ; Action: South\n",
            "(12, 15) ; Action: East\n",
            "(12, 16) ; Action: East\n",
            "(12, 17) ; Action: East\n",
            "(12, 18) ; Action: East\n",
            "(12, 19) ; Action: East\n",
            "(13, 19) ; Action: South\n",
            "(13, 18) ; Action: West\n",
            "(13, 17) ; Action: West\n",
            "(13, 16) ; Action: West\n",
            "(13, 15) ; Action: West\n",
            "(13, 14) ; Action: West\n",
            "(14, 14) ; Action: South\n",
            "(14, 15) ; Action: East\n",
            "(14, 16) ; Action: East\n",
            "(14, 17) ; Action: East\n",
            "(14, 18) ; Action: East\n",
            "(14, 19) ; Action: East\n",
            "(15, 19) ; Action: South\n",
            "(15, 18) ; Action: West\n",
            "(15, 17) ; Action: West\n",
            "(15, 16) ; Action: West\n",
            "(15, 15) ; Action: West\n",
            "(15, 14) ; Action: West\n",
            "(16, 14) ; Action: South\n",
            "(16, 15) ; Action: East\n",
            "(16, 16) ; Action: East\n",
            "(16, 17) ; Action: East\n",
            "(16, 18) ; Action: East\n",
            "(16, 19) ; Action: East\n",
            "(16, 20) ; Action: East\n",
            "(16, 21) ; Action: East\n",
            "(16, 22) ; Action: East\n",
            "(16, 23) ; Action: East\n",
            "(16, 24) ; Action: East\n",
            "(16, 25) ; Action: East\n",
            "(16, 26) ; Action: East\n",
            "(16, 27) ; Action: East\n",
            "(16, 28) ; Action: East\n",
            "(16, 29) ; Action: East\n",
            "(16, 30) ; Action: East\n",
            "(16, 31) ; Action: East\n",
            "(16, 32) ; Action: East\n",
            "(16, 33) ; Action: East\n",
            "(16, 34) ; Action: East\n",
            "(16, 35) ; Action: East\n",
            "(17, 35) ; Action: South\n",
            "(17, 34) ; Action: West\n",
            "(17, 33) ; Action: West\n",
            "(17, 32) ; Action: West\n",
            "(17, 31) ; Action: West\n",
            "(17, 30) ; Action: West\n",
            "(17, 29) ; Action: West\n",
            "(17, 28) ; Action: West\n",
            "(17, 27) ; Action: West\n",
            "(17, 26) ; Action: West\n",
            "(17, 25) ; Action: West\n",
            "(17, 24) ; Action: West\n",
            "(17, 23) ; Action: West\n",
            "(17, 22) ; Action: West\n",
            "(17, 21) ; Action: West\n",
            "(17, 20) ; Action: West\n",
            "(17, 19) ; Action: West\n",
            "(17, 18) ; Action: West\n",
            "(17, 17) ; Action: West\n",
            "(17, 16) ; Action: West\n",
            "(17, 15) ; Action: West\n",
            "(17, 14) ; Action: West\n",
            "(18, 14) ; Action: South\n",
            "(18, 13) ; Action: West\n",
            "(18, 12) ; Action: West\n",
            "(18, 11) ; Action: West\n",
            "(18, 10) ; Action: West\n",
            "(18, 9) ; Action: West\n",
            "(18, 8) ; Action: West\n",
            "(18, 7) ; Action: West\n",
            "(18, 6) ; Action: West\n",
            "(18, 5) ; Action: West\n",
            "(18, 4) ; Action: West\n",
            "(18, 3) ; Action: West\n",
            "(18, 2) ; Action: West\n",
            "(18, 1) ; Action: West\n",
            "(19, 1) ; Action: South\n",
            "(19, 2) ; Action: East\n",
            "(19, 3) ; Action: East\n",
            "(19, 4) ; Action: East\n",
            "(19, 5) ; Action: East\n",
            "(19, 6) ; Action: East\n",
            "(19, 7) ; Action: East\n",
            "(19, 8) ; Action: East\n",
            "(19, 9) ; Action: East\n",
            "(19, 10) ; Action: East\n",
            "(19, 11) ; Action: East\n",
            "(19, 12) ; Action: East\n",
            "(19, 13) ; Action: East\n",
            "(19, 14) ; Action: East\n",
            "(19, 15) ; Action: East\n",
            "(19, 16) ; Action: East\n",
            "(19, 17) ; Action: East\n",
            "(19, 18) ; Action: East\n",
            "(19, 19) ; Action: East\n",
            "(19, 20) ; Action: East\n",
            "(19, 21) ; Action: East\n",
            "(19, 22) ; Action: East\n",
            "(19, 23) ; Action: East\n",
            "(19, 24) ; Action: East\n",
            "(19, 25) ; Action: East\n",
            "(19, 26) ; Action: East\n",
            "(19, 27) ; Action: East\n",
            "(19, 28) ; Action: East\n",
            "(19, 29) ; Action: East\n",
            "(19, 30) ; Action: East\n",
            "(19, 31) ; Action: East\n",
            "(19, 32) ; Action: East\n",
            "(19, 33) ; Action: East\n",
            "(19, 34) ; Action: East\n",
            "(19, 35) ; Action: East\n",
            "(20, 35) ; Action: South\n",
            "(20, 34) ; Action: West\n",
            "(20, 33) ; Action: West\n",
            "(20, 32) ; Action: West\n",
            "(20, 31) ; Action: West\n",
            "(20, 30) ; Action: West\n",
            "(20, 29) ; Action: West\n",
            "(20, 28) ; Action: West\n",
            "(20, 27) ; Action: West\n",
            "(20, 26) ; Action: West\n",
            "(20, 25) ; Action: West\n",
            "(20, 24) ; Action: West\n",
            "(20, 23) ; Action: West\n",
            "(20, 22) ; Action: West\n",
            "(20, 21) ; Action: West\n",
            "(20, 20) ; Action: West\n",
            "(20, 19) ; Action: West\n",
            "(20, 18) ; Action: West\n",
            "(20, 17) ; Action: West\n",
            "(20, 16) ; Action: West\n",
            "(20, 15) ; Action: West\n",
            "(20, 14) ; Action: West\n",
            "(20, 13) ; Action: West\n",
            "(20, 12) ; Action: West\n",
            "(20, 11) ; Action: West\n",
            "(20, 10) ; Action: West\n",
            "(20, 9) ; Action: West\n",
            "(20, 8) ; Action: West\n",
            "(20, 7) ; Action: West\n",
            "(20, 6) ; Action: West\n",
            "(20, 5) ; Action: West\n",
            "(20, 4) ; Action: West\n",
            "(20, 3) ; Action: West\n",
            "(20, 2) ; Action: West\n",
            "(20, 1) ; Action: West\n",
            "(21, 1) ; Action: South\n",
            "Path Cost: 298 ; Number of Nodes Expanded: 1135 ; Max Tree Depth: 298 ; Max Number of Nodes in Memory: 3298 ; Max Frontier Size: 364\n"
          ]
        }
      ],
      "source": [
        "mh.show_maze(maze)\n",
        "\n",
        "result = dfs(maze, mh.find_pos(maze, \"S\"), mh.find_pos(maze, \"G\"))\n",
        "for node in result[0]:\n",
        "    print(node.pos, '; Action:', node.action)\n",
        "print('Path Cost:', result[1], '; Number of Nodes Expanded:', result[2], '; Max Tree Depth:', result[3], '; Max Number of Nodes in Memory:', result[4], '; Max Frontier Size:', result[5])"
      ]
    },
    {
      "cell_type": "markdown",
      "metadata": {
        "id": "VO5Rrv6QqUGL"
      },
      "source": [
        "### How does BFS and DFS deal with loops (cycles)?\n",
        "Discussion"
      ]
    },
    {
      "cell_type": "markdown",
      "metadata": {
        "id": "L5knGnmJqUGL"
      },
      "source": [
        "### Are your implementations complete and optimal? Explain why. What is the time and space complexity of each of **your** implementations?\n",
        "Discussion\n",
        "The time complexity of BFS is O(b^d) and the space complexity is O(b^d). The time complexity of DFS is O(b^m) and the space complexity is O(bm)."
      ]
    },
    {
      "cell_type": "markdown",
      "metadata": {
        "id": "jasFP8CvqUGL"
      },
      "source": [
        "## Task 3: Informed search: Implement greedy best-first search and A* search  [20 Points]\n",
        "\n",
        "You can use the map to estimate the distance from your current position to the goal using the Manhattan distance (see https://en.wikipedia.org/wiki/Taxicab_geometry) as a heuristic function. Both algorithms are based on Best-First search which requires only a small change from the BFS algorithm you have already implemented (see textbook/slides)."
      ]
    },
    {
      "cell_type": "code",
      "execution_count": 110,
      "metadata": {
        "id": "SJOkXmDBqUGL"
      },
      "outputs": [],
      "source": [
        "######## Greedy BFS ########\n",
        "\n",
        "def distance(pos1, pos2):\n",
        "    return abs(pos1[0] - pos2[0]) + abs(pos1[1] - pos2[1])\n",
        "\n",
        "def gbfs(maze, start, goal):\n",
        "    actions = {\"North\": (-1, 0), \"South\": (1, 0), \"East\": (0, 1), \"West\": (0, -1)}\n",
        "    max_tree_depth = 0\n",
        "    num_nodes_expanded = 0\n",
        "    max_frontier_size = 0\n",
        "    max_nodes_memory = 0\n",
        "    # Set the current node as the start node\n",
        "    current_node = Node(start, None, None, 0)\n",
        "\n",
        "    if current_node.pos == goal:\n",
        "        return current_node.get_path_from_root(), current_node.cost, num_nodes_expanded, max_tree_depth, max_nodes_memory, max_frontier_size\n",
        "    #create frontier queue with current node\n",
        "    frontier = [current_node]\n",
        "    reached = [current_node.pos]\n",
        "    while frontier:\n",
        "        num_nodes_expanded += 1\n",
        "        max_nodes_memory += 1\n",
        "        current_node = frontier.pop(0)\n",
        "        # For each possibe neighbor of current node\n",
        "        \n",
        "        # Sort the possible actions based on distance from goal\n",
        "        # redo this part\n",
        "        sorted_actions = sorted(actions.items(), key=lambda x: distance((current_node.pos[0] + x[1][0], current_node.pos[1] + x[1][1]), goal), reverse=True)\n",
        "        for action in sorted_actions:\n",
        "            neighbor_pos = (current_node.pos[0] + actions[action[0]][0], current_node.pos[1] + actions[action[0]][1])\n",
        "            # Check if the position is already reached or is a wall\n",
        "            if neighbor_pos in reached or mh.look(maze, neighbor_pos) == \"X\":\n",
        "                continue\n",
        "            # Create neighbor node\n",
        "            neighbor_node = Node(neighbor_pos, current_node, action[0], current_node.cost + 1)\n",
        "            max_nodes_memory += 1\n",
        "            # Adjust max tree depth\n",
        "            if neighbor_node.cost > max_tree_depth:\n",
        "                max_tree_depth = neighbor_node.cost\n",
        "            # Check if neighbor is goal\n",
        "            if neighbor_pos == goal:\n",
        "                return current_node.get_path_from_root(), current_node.cost, num_nodes_expanded, max_tree_depth, max_nodes_memory, max_frontier_size\n",
        "            # Add neighbor to reached and frontier\n",
        "            reached.append(neighbor_pos)\n",
        "            frontier.append(neighbor_node)\n",
        "            # Adjust max frontier size\n",
        "            if frontier.__len__() > max_frontier_size:\n",
        "                max_frontier_size = frontier.__len__()\n",
        "    return None"
      ]
    },
    {
      "cell_type": "code",
      "execution_count": 111,
      "metadata": {},
      "outputs": [
        {
          "data": {
            "image/png": "[encoded data removed]",
            "text/plain": [
              "<Figure size 640x480 with 1 Axes>"
            ]
          },
          "metadata": {
            "image/png": {
              "height": 352,
              "width": 543
            }
          },
          "output_type": "display_data"
        },
        {
          "name": "stdout",
          "output_type": "stream",
          "text": [
            "(1, 35) ; Action: None\n",
            "(2, 35) ; Action: South\n",
            "(3, 35) ; Action: South\n",
            "(4, 35) ; Action: South\n",
            "(5, 35) ; Action: South\n",
            "(6, 35) ; Action: South\n",
            "(6, 34) ; Action: West\n",
            "(6, 33) ; Action: West\n",
            "(6, 32) ; Action: West\n",
            "(6, 31) ; Action: West\n",
            "(6, 30) ; Action: West\n",
            "(6, 29) ; Action: West\n",
            "(6, 28) ; Action: West\n",
            "(6, 27) ; Action: West\n",
            "(6, 26) ; Action: West\n",
            "(6, 25) ; Action: West\n",
            "(6, 24) ; Action: West\n",
            "(6, 23) ; Action: West\n",
            "(6, 22) ; Action: West\n",
            "(6, 21) ; Action: West\n",
            "(6, 20) ; Action: West\n",
            "(6, 19) ; Action: West\n",
            "(7, 19) ; Action: South\n",
            "(8, 19) ; Action: South\n",
            "(9, 19) ; Action: South\n",
            "(10, 19) ; Action: South\n",
            "(11, 19) ; Action: South\n",
            "(12, 19) ; Action: South\n",
            "(13, 19) ; Action: South\n",
            "(14, 19) ; Action: South\n",
            "(15, 19) ; Action: South\n",
            "(16, 19) ; Action: South\n",
            "(17, 19) ; Action: South\n",
            "(18, 19) ; Action: South\n",
            "(19, 19) ; Action: South\n",
            "(20, 19) ; Action: South\n",
            "(21, 19) ; Action: South\n",
            "(21, 18) ; Action: West\n",
            "(21, 17) ; Action: West\n",
            "(21, 16) ; Action: West\n",
            "(21, 15) ; Action: West\n",
            "(21, 14) ; Action: West\n",
            "(21, 13) ; Action: West\n",
            "(21, 12) ; Action: West\n",
            "(21, 11) ; Action: West\n",
            "(21, 10) ; Action: West\n",
            "(21, 9) ; Action: West\n",
            "(21, 8) ; Action: West\n",
            "(21, 7) ; Action: West\n",
            "(21, 6) ; Action: West\n",
            "(21, 5) ; Action: West\n",
            "(21, 4) ; Action: West\n",
            "(21, 3) ; Action: West\n",
            "(21, 2) ; Action: West\n",
            "Path Cost: 53 ; Number of Nodes Expanded: 679 ; Max Tree Depth: 54 ; Max Number of Nodes in Memory: 1361 ; Max Frontier Size: 25\n"
          ]
        }
      ],
      "source": [
        "mh.show_maze(maze)\n",
        "\n",
        "result = gbfs(maze, mh.find_pos(maze, \"S\"), mh.find_pos(maze, \"G\"))\n",
        "for node in result[0]:\n",
        "    print(node.pos, '; Action:', node.action)\n",
        "print('Path Cost:', result[1], '; Number of Nodes Expanded:', result[2], '; Max Tree Depth:', result[3], '; Max Number of Nodes in Memory:', result[4], '; Max Frontier Size:', result[5])"
      ]
    },
    {
      "cell_type": "code",
      "execution_count": 112,
      "metadata": {},
      "outputs": [],
      "source": [
        "######## A* ########\n",
        "\n",
        "def a_star(maze, goal, start):\n",
        "    actions = {\"North\": (-1, 0), \"West\": (0, -1), \"South\": (1, 0), \"East\": (0, 1)}\n",
        "    max_tree_depth = 0\n",
        "    num_nodes_expanded = 0\n",
        "    max_frontier_size = 0\n",
        "    max_nodes_memory = 0\n",
        "    # Set the current node as the start node\n",
        "    current_node = Node(start, None, None, 0)\n",
        "    #create frontier queue with current node\n",
        "    frontier = [current_node]\n",
        "    reached = [current_node.pos]\n",
        "    while frontier:\n",
        "        num_nodes_expanded += 1\n",
        "        max_nodes_memory += 1\n",
        "        current_node = frontier.pop(0)\n",
        "        if current_node.pos == goal:\n",
        "            return current_node.get_path_from_root(), current_node.cost, num_nodes_expanded, max_tree_depth, max_nodes_memory, max_frontier_size\n",
        "        # For each possibe neighbor of current node\n",
        "        for action in actions:\n",
        "            #get neighbor position if it is not a wall\n",
        "            neighbor_pos = (current_node.pos[0] + actions[action][0], current_node.pos[1] + actions[action][1])\n",
        "            if mh.look(maze, neighbor_pos) != \"X\":\n",
        "                # Create neighbor node\n",
        "                neighbor_node = Node(neighbor_pos, current_node, action, current_node.cost + 1)\n",
        "                max_nodes_memory += 1\n",
        "                # Adjust max tree depth\n",
        "                if neighbor_node.cost > max_tree_depth:\n",
        "                    max_tree_depth = neighbor_node.cost\n",
        "                if (neighbor_pos not in reached or neighbor_node.cost < current_node.cost): \n",
        "                    # Add neighbor to reached and frontier\n",
        "                    reached.append(neighbor_pos)\n",
        "                    frontier.append(neighbor_node)\n",
        "                    # Adjust max frontier size\n",
        "                    if frontier.__len__() > max_frontier_size:\n",
        "                        max_frontier_size = frontier.__len__()\n",
        "    return None \n",
        "    "
      ]
    },
    {
      "cell_type": "code",
      "execution_count": 113,
      "metadata": {},
      "outputs": [
        {
          "data": {
            "image/png": "[encoded data removed]",
            "text/plain": [
              "<Figure size 640x480 with 1 Axes>"
            ]
          },
          "metadata": {
            "image/png": {
              "height": 352,
              "width": 543
            }
          },
          "output_type": "display_data"
        },
        {
          "name": "stdout",
          "output_type": "stream",
          "text": [
            "(21, 1) ; Action: None\n",
            "(20, 1) ; Action: North\n",
            "(19, 1) ; Action: North\n",
            "(18, 1) ; Action: North\n",
            "(18, 2) ; Action: East\n",
            "(18, 3) ; Action: East\n",
            "(18, 4) ; Action: East\n",
            "(18, 5) ; Action: East\n",
            "(18, 6) ; Action: East\n",
            "(18, 7) ; Action: East\n",
            "(18, 8) ; Action: East\n",
            "(18, 9) ; Action: East\n",
            "(18, 10) ; Action: East\n",
            "(18, 11) ; Action: East\n",
            "(18, 12) ; Action: East\n",
            "(18, 13) ; Action: East\n",
            "(18, 14) ; Action: East\n",
            "(17, 14) ; Action: North\n",
            "(16, 14) ; Action: North\n",
            "(15, 14) ; Action: North\n",
            "(14, 14) ; Action: North\n",
            "(13, 14) ; Action: North\n",
            "(12, 14) ; Action: North\n",
            "(11, 14) ; Action: North\n",
            "(10, 14) ; Action: North\n",
            "(9, 14) ; Action: North\n",
            "(8, 14) ; Action: North\n",
            "(7, 14) ; Action: North\n",
            "(6, 14) ; Action: North\n",
            "(5, 14) ; Action: North\n",
            "(4, 14) ; Action: North\n",
            "(3, 14) ; Action: North\n",
            "(2, 14) ; Action: North\n",
            "(1, 14) ; Action: North\n",
            "(1, 15) ; Action: East\n",
            "(1, 16) ; Action: East\n",
            "(1, 17) ; Action: East\n",
            "(1, 18) ; Action: East\n",
            "(1, 19) ; Action: East\n",
            "(1, 20) ; Action: East\n",
            "(1, 21) ; Action: East\n",
            "(1, 22) ; Action: East\n",
            "(1, 23) ; Action: East\n",
            "(1, 24) ; Action: East\n",
            "(1, 25) ; Action: East\n",
            "(1, 26) ; Action: East\n",
            "(1, 27) ; Action: East\n",
            "(1, 28) ; Action: East\n",
            "(1, 29) ; Action: East\n",
            "(1, 30) ; Action: East\n",
            "(1, 31) ; Action: East\n",
            "(1, 32) ; Action: East\n",
            "(1, 33) ; Action: East\n",
            "(1, 34) ; Action: East\n",
            "(1, 35) ; Action: East\n",
            "Path Cost: 54 ; Number of Nodes Expanded: 668 ; Max Tree Depth: 55 ; Max Number of Nodes in Memory: 3138 ; Max Frontier Size: 25\n"
          ]
        }
      ],
      "source": [
        "mh.show_maze(maze)\n",
        "\n",
        "result = a_star(maze, mh.find_pos(maze, \"S\"), mh.find_pos(maze, \"G\"))\n",
        "for node in result[0]:\n",
        "    print(node.pos, '; Action:', node.action)\n",
        "print('Path Cost:', result[1], '; Number of Nodes Expanded:', result[2], '; Max Tree Depth:', result[3], '; Max Number of Nodes in Memory:', result[4], '; Max Frontier Size:', result[5])"
      ]
    },
    {
      "cell_type": "markdown",
      "metadata": {
        "id": "Zz8yqJ9AqUGM"
      },
      "source": [
        "Are your implementations complete and optimal? What is the time and space complexity?"
      ]
    },
    {
      "cell_type": "code",
      "execution_count": 114,
      "metadata": {
        "id": "N9FP401hqUGM"
      },
      "outputs": [],
      "source": [
        "# Discussion"
      ]
    },
    {
      "cell_type": "markdown",
      "metadata": {
        "id": "oFkxyEvdqUGM"
      },
      "source": [
        "## Task 4: Comparison and discussion [20 Points]\n",
        "\n",
        "Run experiments to compare the implemented algorithms.\n",
        "\n",
        "How to deal with issues:\n",
        "\n",
        "* Your implementation returns unexpected results: Try to debug and fix the code. Visualizing the maze, the current path and the frontier after every step is very helpful. If the code still does not work, then mark the result with an asterisk (*) and describe the issue below the table.\n",
        "\n",
        "* Your implementation cannot consistently solve a specific maze and ends up in an infinite loop:\n",
        "    Debug. If it is a shortcoming of the algorithm/implementation, then put \"N/A*\" in the results table and describe why this is happening.\n",
        "\n",
        "### Small Maze"
      ]
    },
    {
      "cell_type": "code",
      "execution_count": 115,
      "metadata": {
        "id": "rJkURutqqUGM"
      },
      "outputs": [
        {
          "data": {
            "image/png": "[encoded data removed]",
            "text/plain": [
              "<Figure size 640x480 with 1 Axes>"
            ]
          },
          "metadata": {
            "image/png": {
              "height": 269,
              "width": 534
            }
          },
          "output_type": "display_data"
        },
        {
          "data": {
            "text/html": [
              "<div>\n",
              "<style scoped>\n",
              "    .dataframe tbody tr th:only-of-type {\n",
              "        vertical-align: middle;\n",
              "    }\n",
              "\n",
              "    .dataframe tbody tr th {\n",
              "        vertical-align: top;\n",
              "    }\n",
              "\n",
              "    .dataframe thead th {\n",
              "        text-align: right;\n",
              "    }\n",
              "</style>\n",
              "<table border=\"1\" class=\"dataframe\">\n",
              "  <thead>\n",
              "    <tr style=\"text-align: right;\">\n",
              "      <th></th>\n",
              "      <th>Algorithm</th>\n",
              "      <th>Path Cost</th>\n",
              "      <th>Number of Nodes Expanded</th>\n",
              "      <th>Max Tree Depth</th>\n",
              "      <th>Max Nodes in Memory</th>\n",
              "      <th>Max Frontier Size</th>\n",
              "    </tr>\n",
              "  </thead>\n",
              "  <tbody>\n",
              "    <tr>\n",
              "      <th>0</th>\n",
              "      <td>BFS</td>\n",
              "      <td>18</td>\n",
              "      <td>89</td>\n",
              "      <td>19</td>\n",
              "      <td>182</td>\n",
              "      <td>9</td>\n",
              "    </tr>\n",
              "    <tr>\n",
              "      <th>1</th>\n",
              "      <td>DFS</td>\n",
              "      <td>49</td>\n",
              "      <td>87</td>\n",
              "      <td>49</td>\n",
              "      <td>210</td>\n",
              "      <td>37</td>\n",
              "    </tr>\n",
              "    <tr>\n",
              "      <th>2</th>\n",
              "      <td>GBFS</td>\n",
              "      <td>18</td>\n",
              "      <td>90</td>\n",
              "      <td>19</td>\n",
              "      <td>182</td>\n",
              "      <td>9</td>\n",
              "    </tr>\n",
              "    <tr>\n",
              "      <th>3</th>\n",
              "      <td>A*</td>\n",
              "      <td>19</td>\n",
              "      <td>36</td>\n",
              "      <td>20</td>\n",
              "      <td>109</td>\n",
              "      <td>6</td>\n",
              "    </tr>\n",
              "  </tbody>\n",
              "</table>\n",
              "</div>"
            ],
            "text/plain": [
              "  Algorithm  Path Cost  Number of Nodes Expanded  Max Tree Depth  \\\n",
              "0       BFS         18                        89              19   \n",
              "1       DFS         49                        87              49   \n",
              "2      GBFS         18                        90              19   \n",
              "3        A*         19                        36              20   \n",
              "\n",
              "   Max Nodes in Memory  Max Frontier Size  \n",
              "0                  182                  9  \n",
              "1                  210                 37  \n",
              "2                  182                  9  \n",
              "3                  109                  6  "
            ]
          },
          "execution_count": 115,
          "metadata": {},
          "output_type": "execute_result"
        }
      ],
      "source": [
        "import pandas as pd\n",
        "\n",
        "# SMALL MAZE\n",
        "with open(\"./mazes/small_maze.txt\", \"r\") as f:\n",
        "    maze_str = f.read()\n",
        "maze = mh.parse_maze(maze_str)\n",
        "mh.show_maze(maze)\n",
        "\n",
        "# Get the result of each of the search algorithms\n",
        "result1 = bfs(maze, mh.find_pos(maze, \"S\"), mh.find_pos(maze, \"G\"))\n",
        "result2 = dfs(maze, mh.find_pos(maze, \"S\"), mh.find_pos(maze, \"G\"))\n",
        "result3 = gbfs(maze, mh.find_pos(maze, \"S\"), mh.find_pos(maze, \"G\"))\n",
        "result4 = a_star(maze, mh.find_pos(maze, \"S\"), mh.find_pos(maze, \"G\"))\n",
        "\n",
        "table = pd.DataFrame(columns=['Algorithm', 'Path Cost', 'Number of Nodes Expanded', 'Max Tree Depth', 'Max Nodes in Memory', 'Max Frontier Size'])\n",
        "table['Algorithm'] = ['BFS', 'DFS', 'GBFS', 'A*']\n",
        "table['Path Cost'] = [result1[1], result2[1], result3[1], result4[1]]\n",
        "table['Number of Nodes Expanded'] = [result1[2], result2[2], result3[2], result4[2]]\n",
        "table['Max Tree Depth'] = [result1[3], result2[3], result3[3], result4[3]]\n",
        "table['Max Nodes in Memory'] = [result1[4], result2[4], result3[4], result4[4]]\n",
        "table['Max Frontier Size'] = [result1[5], result2[5], result3[5], result4[5]]\n",
        "table"
      ]
    },
    {
      "cell_type": "markdown",
      "metadata": {},
      "source": [
        "### Medium Maze"
      ]
    },
    {
      "cell_type": "code",
      "execution_count": 116,
      "metadata": {},
      "outputs": [
        {
          "data": {
            "image/png": "[encoded data removed]",
            "text/plain": [
              "<Figure size 640x480 with 1 Axes>"
            ]
          },
          "metadata": {
            "image/png": {
              "height": 291,
              "width": 558
            }
          },
          "output_type": "display_data"
        },
        {
          "data": {
            "text/html": [
              "<div>\n",
              "<style scoped>\n",
              "    .dataframe tbody tr th:only-of-type {\n",
              "        vertical-align: middle;\n",
              "    }\n",
              "\n",
              "    .dataframe tbody tr th {\n",
              "        vertical-align: top;\n",
              "    }\n",
              "\n",
              "    .dataframe thead th {\n",
              "        text-align: right;\n",
              "    }\n",
              "</style>\n",
              "<table border=\"1\" class=\"dataframe\">\n",
              "  <thead>\n",
              "    <tr style=\"text-align: right;\">\n",
              "      <th></th>\n",
              "      <th>Algorithm</th>\n",
              "      <th>Path Cost</th>\n",
              "      <th>Number of Nodes Expanded</th>\n",
              "      <th>Max Tree Depth</th>\n",
              "      <th>Max Nodes in Memory</th>\n",
              "      <th>Max Frontier Size</th>\n",
              "    </tr>\n",
              "  </thead>\n",
              "  <tbody>\n",
              "    <tr>\n",
              "      <th>0</th>\n",
              "      <td>BFS</td>\n",
              "      <td>67</td>\n",
              "      <td>266</td>\n",
              "      <td>68</td>\n",
              "      <td>536</td>\n",
              "      <td>8</td>\n",
              "    </tr>\n",
              "    <tr>\n",
              "      <th>1</th>\n",
              "      <td>DFS</td>\n",
              "      <td>130</td>\n",
              "      <td>205</td>\n",
              "      <td>130</td>\n",
              "      <td>506</td>\n",
              "      <td>95</td>\n",
              "    </tr>\n",
              "    <tr>\n",
              "      <th>2</th>\n",
              "      <td>GBFS</td>\n",
              "      <td>67</td>\n",
              "      <td>267</td>\n",
              "      <td>68</td>\n",
              "      <td>536</td>\n",
              "      <td>9</td>\n",
              "    </tr>\n",
              "    <tr>\n",
              "      <th>3</th>\n",
              "      <td>A*</td>\n",
              "      <td>68</td>\n",
              "      <td>224</td>\n",
              "      <td>69</td>\n",
              "      <td>682</td>\n",
              "      <td>7</td>\n",
              "    </tr>\n",
              "  </tbody>\n",
              "</table>\n",
              "</div>"
            ],
            "text/plain": [
              "  Algorithm  Path Cost  Number of Nodes Expanded  Max Tree Depth  \\\n",
              "0       BFS         67                       266              68   \n",
              "1       DFS        130                       205             130   \n",
              "2      GBFS         67                       267              68   \n",
              "3        A*         68                       224              69   \n",
              "\n",
              "   Max Nodes in Memory  Max Frontier Size  \n",
              "0                  536                  8  \n",
              "1                  506                 95  \n",
              "2                  536                  9  \n",
              "3                  682                  7  "
            ]
          },
          "execution_count": 116,
          "metadata": {},
          "output_type": "execute_result"
        }
      ],
      "source": [
        "import pandas as pd\n",
        "\n",
        "# MEDIUM MAZE\n",
        "with open(\"./mazes/medium_maze.txt\", \"r\") as f:\n",
        "    maze_str = f.read()\n",
        "maze = mh.parse_maze(maze_str)\n",
        "mh.show_maze(maze)\n",
        "\n",
        "# Get the result of each of the search algorithms\n",
        "result1 = bfs(maze, mh.find_pos(maze, \"S\"), mh.find_pos(maze, \"G\"))\n",
        "result2 = dfs(maze, mh.find_pos(maze, \"S\"), mh.find_pos(maze, \"G\"))\n",
        "result3 = gbfs(maze, mh.find_pos(maze, \"S\"), mh.find_pos(maze, \"G\"))\n",
        "result4 = a_star(maze, mh.find_pos(maze, \"S\"), mh.find_pos(maze, \"G\"))\n",
        "\n",
        "table = pd.DataFrame(columns=['Algorithm', 'Path Cost', 'Number of Nodes Expanded', 'Max Tree Depth', 'Max Nodes in Memory', 'Max Frontier Size'])\n",
        "table['Algorithm'] = ['BFS', 'DFS', 'GBFS', 'A*']\n",
        "table['Path Cost'] = [result1[1], result2[1], result3[1], result4[1]]\n",
        "table['Number of Nodes Expanded'] = [result1[2], result2[2], result3[2], result4[2]]\n",
        "table['Max Tree Depth'] = [result1[3], result2[3], result3[3], result4[3]]\n",
        "table['Max Nodes in Memory'] = [result1[4], result2[4], result3[4], result4[4]]\n",
        "table['Max Frontier Size'] = [result1[5], result2[5], result3[5], result4[5]]\n",
        "table"
      ]
    },
    {
      "cell_type": "markdown",
      "metadata": {},
      "source": [
        "### Large Maze"
      ]
    },
    {
      "cell_type": "code",
      "execution_count": 117,
      "metadata": {},
      "outputs": [
        {
          "data": {
            "image/png": "[encoded data removed]",
            "text/plain": [
              "<Figure size 640x480 with 1 Axes>"
            ]
          },
          "metadata": {
            "image/png": {
              "height": 413,
              "width": 416
            }
          },
          "output_type": "display_data"
        },
        {
          "data": {
            "text/html": [
              "<div>\n",
              "<style scoped>\n",
              "    .dataframe tbody tr th:only-of-type {\n",
              "        vertical-align: middle;\n",
              "    }\n",
              "\n",
              "    .dataframe tbody tr th {\n",
              "        vertical-align: top;\n",
              "    }\n",
              "\n",
              "    .dataframe thead th {\n",
              "        text-align: right;\n",
              "    }\n",
              "</style>\n",
              "<table border=\"1\" class=\"dataframe\">\n",
              "  <thead>\n",
              "    <tr style=\"text-align: right;\">\n",
              "      <th></th>\n",
              "      <th>Algorithm</th>\n",
              "      <th>Path Cost</th>\n",
              "      <th>Number of Nodes Expanded</th>\n",
              "      <th>Max Tree Depth</th>\n",
              "      <th>Max Nodes in Memory</th>\n",
              "      <th>Max Frontier Size</th>\n",
              "    </tr>\n",
              "  </thead>\n",
              "  <tbody>\n",
              "    <tr>\n",
              "      <th>0</th>\n",
              "      <td>BFS</td>\n",
              "      <td>209</td>\n",
              "      <td>616</td>\n",
              "      <td>210</td>\n",
              "      <td>1237</td>\n",
              "      <td>8</td>\n",
              "    </tr>\n",
              "    <tr>\n",
              "      <th>1</th>\n",
              "      <td>DFS</td>\n",
              "      <td>210</td>\n",
              "      <td>661</td>\n",
              "      <td>223</td>\n",
              "      <td>1477</td>\n",
              "      <td>161</td>\n",
              "    </tr>\n",
              "    <tr>\n",
              "      <th>2</th>\n",
              "      <td>GBFS</td>\n",
              "      <td>209</td>\n",
              "      <td>618</td>\n",
              "      <td>210</td>\n",
              "      <td>1239</td>\n",
              "      <td>8</td>\n",
              "    </tr>\n",
              "    <tr>\n",
              "      <th>3</th>\n",
              "      <td>A*</td>\n",
              "      <td>210</td>\n",
              "      <td>641</td>\n",
              "      <td>211</td>\n",
              "      <td>1922</td>\n",
              "      <td>9</td>\n",
              "    </tr>\n",
              "  </tbody>\n",
              "</table>\n",
              "</div>"
            ],
            "text/plain": [
              "  Algorithm  Path Cost  Number of Nodes Expanded  Max Tree Depth  \\\n",
              "0       BFS        209                       616             210   \n",
              "1       DFS        210                       661             223   \n",
              "2      GBFS        209                       618             210   \n",
              "3        A*        210                       641             211   \n",
              "\n",
              "   Max Nodes in Memory  Max Frontier Size  \n",
              "0                 1237                  8  \n",
              "1                 1477                161  \n",
              "2                 1239                  8  \n",
              "3                 1922                  9  "
            ]
          },
          "execution_count": 117,
          "metadata": {},
          "output_type": "execute_result"
        }
      ],
      "source": [
        "import pandas as pd\n",
        "\n",
        "# LARGE MAZE\n",
        "with open(\"./mazes/large_maze.txt\", \"r\") as f:\n",
        "    maze_str = f.read()\n",
        "maze = mh.parse_maze(maze_str)\n",
        "mh.show_maze(maze)\n",
        "\n",
        "# Get the result of each of the search algorithms\n",
        "result1 = bfs(maze, mh.find_pos(maze, \"S\"), mh.find_pos(maze, \"G\"))\n",
        "result2 = dfs(maze, mh.find_pos(maze, \"S\"), mh.find_pos(maze, \"G\"))\n",
        "result3 = gbfs(maze, mh.find_pos(maze, \"S\"), mh.find_pos(maze, \"G\"))\n",
        "result4 = a_star(maze, mh.find_pos(maze, \"S\"), mh.find_pos(maze, \"G\"))\n",
        "\n",
        "table = pd.DataFrame(columns=['Algorithm', 'Path Cost', 'Number of Nodes Expanded', 'Max Tree Depth', 'Max Nodes in Memory', 'Max Frontier Size'])\n",
        "table['Algorithm'] = ['BFS', 'DFS', 'GBFS', 'A*']\n",
        "table['Path Cost'] = [result1[1], result2[1], result3[1], result4[1]]\n",
        "table['Number of Nodes Expanded'] = [result1[2], result2[2], result3[2], result4[2]]\n",
        "table['Max Tree Depth'] = [result1[3], result2[3], result3[3], result4[3]]\n",
        "table['Max Nodes in Memory'] = [result1[4], result2[4], result3[4], result4[4]]\n",
        "table['Max Frontier Size'] = [result1[5], result2[5], result3[5], result4[5]]\n",
        "table"
      ]
    },
    {
      "cell_type": "markdown",
      "metadata": {},
      "source": [
        "### Wall Maze"
      ]
    },
    {
      "cell_type": "code",
      "execution_count": 118,
      "metadata": {},
      "outputs": [
        {
          "data": {
            "image/png": "[encoded data removed]",
            "text/plain": [
              "<Figure size 640x480 with 1 Axes>"
            ]
          },
          "metadata": {
            "image/png": {
              "height": 413,
              "width": 416
            }
          },
          "output_type": "display_data"
        },
        {
          "data": {
            "text/html": [
              "<div>\n",
              "<style scoped>\n",
              "    .dataframe tbody tr th:only-of-type {\n",
              "        vertical-align: middle;\n",
              "    }\n",
              "\n",
              "    .dataframe tbody tr th {\n",
              "        vertical-align: top;\n",
              "    }\n",
              "\n",
              "    .dataframe thead th {\n",
              "        text-align: right;\n",
              "    }\n",
              "</style>\n",
              "<table border=\"1\" class=\"dataframe\">\n",
              "  <thead>\n",
              "    <tr style=\"text-align: right;\">\n",
              "      <th></th>\n",
              "      <th>Algorithm</th>\n",
              "      <th>Path Cost</th>\n",
              "      <th>Number of Nodes Expanded</th>\n",
              "      <th>Max Tree Depth</th>\n",
              "      <th>Max Nodes in Memory</th>\n",
              "      <th>Max Frontier Size</th>\n",
              "    </tr>\n",
              "  </thead>\n",
              "  <tbody>\n",
              "    <tr>\n",
              "      <th>0</th>\n",
              "      <td>BFS</td>\n",
              "      <td>13</td>\n",
              "      <td>84</td>\n",
              "      <td>14</td>\n",
              "      <td>173</td>\n",
              "      <td>11</td>\n",
              "    </tr>\n",
              "    <tr>\n",
              "      <th>1</th>\n",
              "      <td>DFS</td>\n",
              "      <td>64</td>\n",
              "      <td>160</td>\n",
              "      <td>71</td>\n",
              "      <td>441</td>\n",
              "      <td>62</td>\n",
              "    </tr>\n",
              "    <tr>\n",
              "      <th>2</th>\n",
              "      <td>GBFS</td>\n",
              "      <td>13</td>\n",
              "      <td>85</td>\n",
              "      <td>14</td>\n",
              "      <td>173</td>\n",
              "      <td>10</td>\n",
              "    </tr>\n",
              "    <tr>\n",
              "      <th>3</th>\n",
              "      <td>A*</td>\n",
              "      <td>14</td>\n",
              "      <td>89</td>\n",
              "      <td>15</td>\n",
              "      <td>390</td>\n",
              "      <td>11</td>\n",
              "    </tr>\n",
              "  </tbody>\n",
              "</table>\n",
              "</div>"
            ],
            "text/plain": [
              "  Algorithm  Path Cost  Number of Nodes Expanded  Max Tree Depth  \\\n",
              "0       BFS         13                        84              14   \n",
              "1       DFS         64                       160              71   \n",
              "2      GBFS         13                        85              14   \n",
              "3        A*         14                        89              15   \n",
              "\n",
              "   Max Nodes in Memory  Max Frontier Size  \n",
              "0                  173                 11  \n",
              "1                  441                 62  \n",
              "2                  173                 10  \n",
              "3                  390                 11  "
            ]
          },
          "execution_count": 118,
          "metadata": {},
          "output_type": "execute_result"
        }
      ],
      "source": [
        "import pandas as pd\n",
        "\n",
        "# WALL MAZE\n",
        "with open(\"./mazes/wall_maze.txt\", \"r\") as f:\n",
        "    maze_str = f.read()\n",
        "maze = mh.parse_maze(maze_str)\n",
        "mh.show_maze(maze)\n",
        "\n",
        "# Get the result of each of the search algorithms\n",
        "result1 = bfs(maze, mh.find_pos(maze, \"S\"), mh.find_pos(maze, \"G\"))\n",
        "result2 = dfs(maze, mh.find_pos(maze, \"S\"), mh.find_pos(maze, \"G\"))\n",
        "result3 = gbfs(maze, mh.find_pos(maze, \"S\"), mh.find_pos(maze, \"G\"))\n",
        "result4 = a_star(maze, mh.find_pos(maze, \"S\"), mh.find_pos(maze, \"G\"))\n",
        "\n",
        "table = pd.DataFrame(columns=['Algorithm', 'Path Cost', 'Number of Nodes Expanded', 'Max Tree Depth', 'Max Nodes in Memory', 'Max Frontier Size'])\n",
        "table['Algorithm'] = ['BFS', 'DFS', 'GBFS', 'A*']\n",
        "table['Path Cost'] = [result1[1], result2[1], result3[1], result4[1]]\n",
        "table['Number of Nodes Expanded'] = [result1[2], result2[2], result3[2], result4[2]]\n",
        "table['Max Tree Depth'] = [result1[3], result2[3], result3[3], result4[3]]\n",
        "table['Max Nodes in Memory'] = [result1[4], result2[4], result3[4], result4[4]]\n",
        "table['Max Frontier Size'] = [result1[5], result2[5], result3[5], result4[5]]\n",
        "table"
      ]
    },
    {
      "cell_type": "markdown",
      "metadata": {},
      "source": [
        "### Open Maze"
      ]
    },
    {
      "cell_type": "code",
      "execution_count": 119,
      "metadata": {},
      "outputs": [
        {
          "data": {
            "image/png": "[encoded data removed]",
            "text/plain": [
              "<Figure size 640x480 with 1 Axes>"
            ]
          },
          "metadata": {
            "image/png": {
              "height": 352,
              "width": 543
            }
          },
          "output_type": "display_data"
        },
        {
          "data": {
            "text/html": [
              "<div>\n",
              "<style scoped>\n",
              "    .dataframe tbody tr th:only-of-type {\n",
              "        vertical-align: middle;\n",
              "    }\n",
              "\n",
              "    .dataframe tbody tr th {\n",
              "        vertical-align: top;\n",
              "    }\n",
              "\n",
              "    .dataframe thead th {\n",
              "        text-align: right;\n",
              "    }\n",
              "</style>\n",
              "<table border=\"1\" class=\"dataframe\">\n",
              "  <thead>\n",
              "    <tr style=\"text-align: right;\">\n",
              "      <th></th>\n",
              "      <th>Algorithm</th>\n",
              "      <th>Path Cost</th>\n",
              "      <th>Number of Nodes Expanded</th>\n",
              "      <th>Max Tree Depth</th>\n",
              "      <th>Max Nodes in Memory</th>\n",
              "      <th>Max Frontier Size</th>\n",
              "    </tr>\n",
              "  </thead>\n",
              "  <tbody>\n",
              "    <tr>\n",
              "      <th>0</th>\n",
              "      <td>BFS</td>\n",
              "      <td>53</td>\n",
              "      <td>678</td>\n",
              "      <td>54</td>\n",
              "      <td>1361</td>\n",
              "      <td>25</td>\n",
              "    </tr>\n",
              "    <tr>\n",
              "      <th>1</th>\n",
              "      <td>DFS</td>\n",
              "      <td>298</td>\n",
              "      <td>1135</td>\n",
              "      <td>298</td>\n",
              "      <td>3298</td>\n",
              "      <td>364</td>\n",
              "    </tr>\n",
              "    <tr>\n",
              "      <th>2</th>\n",
              "      <td>GBFS</td>\n",
              "      <td>53</td>\n",
              "      <td>679</td>\n",
              "      <td>54</td>\n",
              "      <td>1361</td>\n",
              "      <td>25</td>\n",
              "    </tr>\n",
              "    <tr>\n",
              "      <th>3</th>\n",
              "      <td>A*</td>\n",
              "      <td>54</td>\n",
              "      <td>668</td>\n",
              "      <td>55</td>\n",
              "      <td>3138</td>\n",
              "      <td>25</td>\n",
              "    </tr>\n",
              "  </tbody>\n",
              "</table>\n",
              "</div>"
            ],
            "text/plain": [
              "  Algorithm  Path Cost  Number of Nodes Expanded  Max Tree Depth  \\\n",
              "0       BFS         53                       678              54   \n",
              "1       DFS        298                      1135             298   \n",
              "2      GBFS         53                       679              54   \n",
              "3        A*         54                       668              55   \n",
              "\n",
              "   Max Nodes in Memory  Max Frontier Size  \n",
              "0                 1361                 25  \n",
              "1                 3298                364  \n",
              "2                 1361                 25  \n",
              "3                 3138                 25  "
            ]
          },
          "execution_count": 119,
          "metadata": {},
          "output_type": "execute_result"
        }
      ],
      "source": [
        "import pandas as pd\n",
        "\n",
        "# OPEN MAZE\n",
        "with open(\"./mazes/open_maze.txt\", \"r\") as f:\n",
        "    maze_str = f.read()\n",
        "maze = mh.parse_maze(maze_str)\n",
        "mh.show_maze(maze)\n",
        "\n",
        "# Get the result of each of the search algorithms\n",
        "result1 = bfs(maze, mh.find_pos(maze, \"S\"), mh.find_pos(maze, \"G\"))\n",
        "result2 = dfs(maze, mh.find_pos(maze, \"S\"), mh.find_pos(maze, \"G\"))\n",
        "result3 = gbfs(maze, mh.find_pos(maze, \"S\"), mh.find_pos(maze, \"G\"))\n",
        "result4 = a_star(maze, mh.find_pos(maze, \"S\"), mh.find_pos(maze, \"G\"))\n",
        "\n",
        "table = pd.DataFrame(columns=['Algorithm', 'Path Cost', 'Number of Nodes Expanded', 'Max Tree Depth', 'Max Nodes in Memory', 'Max Frontier Size'])\n",
        "table['Algorithm'] = ['BFS', 'DFS', 'GBFS', 'A*']\n",
        "table['Path Cost'] = [result1[1], result2[1], result3[1], result4[1]]\n",
        "table['Number of Nodes Expanded'] = [result1[2], result2[2], result3[2], result4[2]]\n",
        "table['Max Tree Depth'] = [result1[3], result2[3], result3[3], result4[3]]\n",
        "table['Max Nodes in Memory'] = [result1[4], result2[4], result3[4], result4[4]]\n",
        "table['Max Frontier Size'] = [result1[5], result2[5], result3[5], result4[5]]\n",
        "table"
      ]
    },
    {
      "cell_type": "markdown",
      "metadata": {},
      "source": [
        "### Loops Maze"
      ]
    },
    {
      "cell_type": "code",
      "execution_count": 120,
      "metadata": {},
      "outputs": [
        {
          "data": {
            "image/png": "[encoded data removed]",
            "text/plain": [
              "<Figure size 640x480 with 1 Axes>"
            ]
          },
          "metadata": {
            "image/png": {
              "height": 413,
              "width": 416
            }
          },
          "output_type": "display_data"
        },
        {
          "data": {
            "text/html": [
              "<div>\n",
              "<style scoped>\n",
              "    .dataframe tbody tr th:only-of-type {\n",
              "        vertical-align: middle;\n",
              "    }\n",
              "\n",
              "    .dataframe tbody tr th {\n",
              "        vertical-align: top;\n",
              "    }\n",
              "\n",
              "    .dataframe thead th {\n",
              "        text-align: right;\n",
              "    }\n",
              "</style>\n",
              "<table border=\"1\" class=\"dataframe\">\n",
              "  <thead>\n",
              "    <tr style=\"text-align: right;\">\n",
              "      <th></th>\n",
              "      <th>Algorithm</th>\n",
              "      <th>Path Cost</th>\n",
              "      <th>Number of Nodes Expanded</th>\n",
              "      <th>Max Tree Depth</th>\n",
              "      <th>Max Nodes in Memory</th>\n",
              "      <th>Max Frontier Size</th>\n",
              "    </tr>\n",
              "  </thead>\n",
              "  <tbody>\n",
              "    <tr>\n",
              "      <th>0</th>\n",
              "      <td>BFS</td>\n",
              "      <td>22</td>\n",
              "      <td>69</td>\n",
              "      <td>23</td>\n",
              "      <td>141</td>\n",
              "      <td>8</td>\n",
              "    </tr>\n",
              "    <tr>\n",
              "      <th>1</th>\n",
              "      <td>DFS</td>\n",
              "      <td>27</td>\n",
              "      <td>52</td>\n",
              "      <td>27</td>\n",
              "      <td>123</td>\n",
              "      <td>21</td>\n",
              "    </tr>\n",
              "    <tr>\n",
              "      <th>2</th>\n",
              "      <td>GBFS</td>\n",
              "      <td>22</td>\n",
              "      <td>70</td>\n",
              "      <td>23</td>\n",
              "      <td>141</td>\n",
              "      <td>8</td>\n",
              "    </tr>\n",
              "    <tr>\n",
              "      <th>3</th>\n",
              "      <td>A*</td>\n",
              "      <td>23</td>\n",
              "      <td>53</td>\n",
              "      <td>24</td>\n",
              "      <td>179</td>\n",
              "      <td>5</td>\n",
              "    </tr>\n",
              "  </tbody>\n",
              "</table>\n",
              "</div>"
            ],
            "text/plain": [
              "  Algorithm  Path Cost  Number of Nodes Expanded  Max Tree Depth  \\\n",
              "0       BFS         22                        69              23   \n",
              "1       DFS         27                        52              27   \n",
              "2      GBFS         22                        70              23   \n",
              "3        A*         23                        53              24   \n",
              "\n",
              "   Max Nodes in Memory  Max Frontier Size  \n",
              "0                  141                  8  \n",
              "1                  123                 21  \n",
              "2                  141                  8  \n",
              "3                  179                  5  "
            ]
          },
          "execution_count": 120,
          "metadata": {},
          "output_type": "execute_result"
        }
      ],
      "source": [
        "import pandas as pd\n",
        "\n",
        "# LOOPS MAZE\n",
        "with open(\"./mazes/loops_maze.txt\", \"r\") as f:\n",
        "    maze_str = f.read()\n",
        "maze = mh.parse_maze(maze_str)\n",
        "mh.show_maze(maze)\n",
        "\n",
        "# Get the result of each of the search algorithms\n",
        "result1 = bfs(maze, mh.find_pos(maze, \"S\"), mh.find_pos(maze, \"G\"))\n",
        "result2 = dfs(maze, mh.find_pos(maze, \"S\"), mh.find_pos(maze, \"G\"))\n",
        "result3 = gbfs(maze, mh.find_pos(maze, \"S\"), mh.find_pos(maze, \"G\"))\n",
        "result4 = a_star(maze, mh.find_pos(maze, \"S\"), mh.find_pos(maze, \"G\"))\n",
        "\n",
        "table = pd.DataFrame(columns=['Algorithm', 'Path Cost', 'Number of Nodes Expanded', 'Max Tree Depth', 'Max Nodes in Memory', 'Max Frontier Size'])\n",
        "table['Algorithm'] = ['BFS', 'DFS', 'GBFS', 'A*']\n",
        "table['Path Cost'] = [result1[1], result2[1], result3[1], result4[1]]\n",
        "table['Number of Nodes Expanded'] = [result1[2], result2[2], result3[2], result4[2]]\n",
        "table['Max Tree Depth'] = [result1[3], result2[3], result3[3], result4[3]]\n",
        "table['Max Nodes in Memory'] = [result1[4], result2[4], result3[4], result4[4]]\n",
        "table['Max Frontier Size'] = [result1[5], result2[5], result3[5], result4[5]]\n",
        "table"
      ]
    },
    {
      "cell_type": "markdown",
      "metadata": {},
      "source": [
        "### Empty Maze"
      ]
    },
    {
      "cell_type": "code",
      "execution_count": 121,
      "metadata": {},
      "outputs": [
        {
          "data": {
            "image/png": "[encoded data removed]",
            "text/plain": [
              "<Figure size 640x480 with 1 Axes>"
            ]
          },
          "metadata": {
            "image/png": {
              "height": 413,
              "width": 416
            }
          },
          "output_type": "display_data"
        },
        {
          "data": {
            "text/html": [
              "<div>\n",
              "<style scoped>\n",
              "    .dataframe tbody tr th:only-of-type {\n",
              "        vertical-align: middle;\n",
              "    }\n",
              "\n",
              "    .dataframe tbody tr th {\n",
              "        vertical-align: top;\n",
              "    }\n",
              "\n",
              "    .dataframe thead th {\n",
              "        text-align: right;\n",
              "    }\n",
              "</style>\n",
              "<table border=\"1\" class=\"dataframe\">\n",
              "  <thead>\n",
              "    <tr style=\"text-align: right;\">\n",
              "      <th></th>\n",
              "      <th>Algorithm</th>\n",
              "      <th>Path Cost</th>\n",
              "      <th>Number of Nodes Expanded</th>\n",
              "      <th>Max Tree Depth</th>\n",
              "      <th>Max Nodes in Memory</th>\n",
              "      <th>Max Frontier Size</th>\n",
              "    </tr>\n",
              "  </thead>\n",
              "  <tbody>\n",
              "    <tr>\n",
              "      <th>0</th>\n",
              "      <td>BFS</td>\n",
              "      <td>13</td>\n",
              "      <td>91</td>\n",
              "      <td>14</td>\n",
              "      <td>187</td>\n",
              "      <td>12</td>\n",
              "    </tr>\n",
              "    <tr>\n",
              "      <th>1</th>\n",
              "      <td>DFS</td>\n",
              "      <td>74</td>\n",
              "      <td>151</td>\n",
              "      <td>74</td>\n",
              "      <td>448</td>\n",
              "      <td>59</td>\n",
              "    </tr>\n",
              "    <tr>\n",
              "      <th>2</th>\n",
              "      <td>GBFS</td>\n",
              "      <td>13</td>\n",
              "      <td>92</td>\n",
              "      <td>14</td>\n",
              "      <td>187</td>\n",
              "      <td>11</td>\n",
              "    </tr>\n",
              "    <tr>\n",
              "      <th>3</th>\n",
              "      <td>A*</td>\n",
              "      <td>14</td>\n",
              "      <td>96</td>\n",
              "      <td>15</td>\n",
              "      <td>441</td>\n",
              "      <td>12</td>\n",
              "    </tr>\n",
              "  </tbody>\n",
              "</table>\n",
              "</div>"
            ],
            "text/plain": [
              "  Algorithm  Path Cost  Number of Nodes Expanded  Max Tree Depth  \\\n",
              "0       BFS         13                        91              14   \n",
              "1       DFS         74                       151              74   \n",
              "2      GBFS         13                        92              14   \n",
              "3        A*         14                        96              15   \n",
              "\n",
              "   Max Nodes in Memory  Max Frontier Size  \n",
              "0                  187                 12  \n",
              "1                  448                 59  \n",
              "2                  187                 11  \n",
              "3                  441                 12  "
            ]
          },
          "execution_count": 121,
          "metadata": {},
          "output_type": "execute_result"
        }
      ],
      "source": [
        "import pandas as pd\n",
        "\n",
        "# EMPTY MAZE\n",
        "with open(\"./mazes/empty_maze.txt\", \"r\") as f:\n",
        "    maze_str = f.read()\n",
        "maze = mh.parse_maze(maze_str)\n",
        "mh.show_maze(maze)\n",
        "\n",
        "# Get the result of each of the search algorithms\n",
        "result1 = bfs(maze, mh.find_pos(maze, \"S\"), mh.find_pos(maze, \"G\"))\n",
        "result2 = dfs(maze, mh.find_pos(maze, \"S\"), mh.find_pos(maze, \"G\"))\n",
        "result3 = gbfs(maze, mh.find_pos(maze, \"S\"), mh.find_pos(maze, \"G\"))\n",
        "result4 = a_star(maze, mh.find_pos(maze, \"S\"), mh.find_pos(maze, \"G\"))\n",
        "\n",
        "table = pd.DataFrame(columns=['Algorithm', 'Path Cost', 'Number of Nodes Expanded', 'Max Tree Depth', 'Max Nodes in Memory', 'Max Frontier Size'])\n",
        "table['Algorithm'] = ['BFS', 'DFS', 'GBFS', 'A*']\n",
        "table['Path Cost'] = [result1[1], result2[1], result3[1], result4[1]]\n",
        "table['Number of Nodes Expanded'] = [result1[2], result2[2], result3[2], result4[2]]\n",
        "table['Max Tree Depth'] = [result1[3], result2[3], result3[3], result4[3]]\n",
        "table['Max Nodes in Memory'] = [result1[4], result2[4], result3[4], result4[4]]\n",
        "table['Max Frontier Size'] = [result1[5], result2[5], result3[5], result4[5]]\n",
        "table"
      ]
    },
    {
      "cell_type": "markdown",
      "metadata": {},
      "source": [
        "### Empty_2 Maze"
      ]
    },
    {
      "cell_type": "code",
      "execution_count": 122,
      "metadata": {},
      "outputs": [
        {
          "data": {
            "image/png": "[encoded data removed]",
            "text/plain": [
              "<Figure size 640x480 with 1 Axes>"
            ]
          },
          "metadata": {
            "image/png": {
              "height": 413,
              "width": 416
            }
          },
          "output_type": "display_data"
        },
        {
          "data": {
            "text/html": [
              "<div>\n",
              "<style scoped>\n",
              "    .dataframe tbody tr th:only-of-type {\n",
              "        vertical-align: middle;\n",
              "    }\n",
              "\n",
              "    .dataframe tbody tr th {\n",
              "        vertical-align: top;\n",
              "    }\n",
              "\n",
              "    .dataframe thead th {\n",
              "        text-align: right;\n",
              "    }\n",
              "</style>\n",
              "<table border=\"1\" class=\"dataframe\">\n",
              "  <thead>\n",
              "    <tr style=\"text-align: right;\">\n",
              "      <th></th>\n",
              "      <th>Algorithm</th>\n",
              "      <th>Path Cost</th>\n",
              "      <th>Number of Nodes Expanded</th>\n",
              "      <th>Max Tree Depth</th>\n",
              "      <th>Max Nodes in Memory</th>\n",
              "      <th>Max Frontier Size</th>\n",
              "    </tr>\n",
              "  </thead>\n",
              "  <tbody>\n",
              "    <tr>\n",
              "      <th>0</th>\n",
              "      <td>BFS</td>\n",
              "      <td>13</td>\n",
              "      <td>91</td>\n",
              "      <td>14</td>\n",
              "      <td>187</td>\n",
              "      <td>12</td>\n",
              "    </tr>\n",
              "    <tr>\n",
              "      <th>1</th>\n",
              "      <td>DFS</td>\n",
              "      <td>70</td>\n",
              "      <td>102</td>\n",
              "      <td>70</td>\n",
              "      <td>368</td>\n",
              "      <td>88</td>\n",
              "    </tr>\n",
              "    <tr>\n",
              "      <th>2</th>\n",
              "      <td>GBFS</td>\n",
              "      <td>13</td>\n",
              "      <td>92</td>\n",
              "      <td>14</td>\n",
              "      <td>187</td>\n",
              "      <td>11</td>\n",
              "    </tr>\n",
              "    <tr>\n",
              "      <th>3</th>\n",
              "      <td>A*</td>\n",
              "      <td>14</td>\n",
              "      <td>96</td>\n",
              "      <td>15</td>\n",
              "      <td>441</td>\n",
              "      <td>12</td>\n",
              "    </tr>\n",
              "  </tbody>\n",
              "</table>\n",
              "</div>"
            ],
            "text/plain": [
              "  Algorithm  Path Cost  Number of Nodes Expanded  Max Tree Depth  \\\n",
              "0       BFS         13                        91              14   \n",
              "1       DFS         70                       102              70   \n",
              "2      GBFS         13                        92              14   \n",
              "3        A*         14                        96              15   \n",
              "\n",
              "   Max Nodes in Memory  Max Frontier Size  \n",
              "0                  187                 12  \n",
              "1                  368                 88  \n",
              "2                  187                 11  \n",
              "3                  441                 12  "
            ]
          },
          "execution_count": 122,
          "metadata": {},
          "output_type": "execute_result"
        }
      ],
      "source": [
        "import pandas as pd\n",
        "\n",
        "# EMPTY_2 MAZE\n",
        "with open(\"./mazes/empty_2_maze.txt\", \"r\") as f:\n",
        "    maze_str = f.read()\n",
        "maze = mh.parse_maze(maze_str)\n",
        "mh.show_maze(maze)\n",
        "\n",
        "# Get the result of each of the search algorithms\n",
        "result1 = bfs(maze, mh.find_pos(maze, \"S\"), mh.find_pos(maze, \"G\"))\n",
        "result2 = dfs(maze, mh.find_pos(maze, \"S\"), mh.find_pos(maze, \"G\"))\n",
        "result3 = gbfs(maze, mh.find_pos(maze, \"S\"), mh.find_pos(maze, \"G\"))\n",
        "result4 = a_star(maze, mh.find_pos(maze, \"S\"), mh.find_pos(maze, \"G\"))\n",
        "\n",
        "table = pd.DataFrame(columns=['Algorithm', 'Path Cost', 'Number of Nodes Expanded', 'Max Tree Depth', 'Max Nodes in Memory', 'Max Frontier Size'])\n",
        "table['Algorithm'] = ['BFS', 'DFS', 'GBFS', 'A*']\n",
        "table['Path Cost'] = [result1[1], result2[1], result3[1], result4[1]]\n",
        "table['Number of Nodes Expanded'] = [result1[2], result2[2], result3[2], result4[2]]\n",
        "table['Max Tree Depth'] = [result1[3], result2[3], result3[3], result4[3]]\n",
        "table['Max Nodes in Memory'] = [result1[4], result2[4], result3[4], result4[4]]\n",
        "table['Max Frontier Size'] = [result1[5], result2[5], result3[5], result4[5]]\n",
        "table"
      ]
    },
    {
      "cell_type": "markdown",
      "metadata": {
        "id": "w8mRRkXQqUGM"
      },
      "source": [
        "Present the results as using charts (see [Python Code Examples/charts and tables](../HOWTOs/charts_and_tables.ipynb))."
      ]
    },
    {
      "cell_type": "code",
      "execution_count": 123,
      "metadata": {
        "id": "JMZ8X5c6qUGM"
      },
      "outputs": [],
      "source": [
        "# Add charts"
      ]
    },
    {
      "cell_type": "markdown",
      "metadata": {
        "id": "5FXiORTpqUGM"
      },
      "source": [
        "Discuss the most important lessons you have learned from implementing the different search strategies."
      ]
    },
    {
      "cell_type": "code",
      "execution_count": 124,
      "metadata": {
        "id": "p6lLDvjPqUGM"
      },
      "outputs": [],
      "source": [
        "# Add discussion"
      ]
    },
    {
      "cell_type": "markdown",
      "metadata": {
        "id": "7WRbm_pBqUGM"
      },
      "source": [
        "## Graduate student advanced task: IDS and Multiple goals [10 Points]\n",
        "\n",
        "__Undergraduate students:__ This is a bonus task you can attempt if you like [+5 Bonus Points].\n",
        "\n",
        "Create a few mazes with multiple goals by adding one or two more goals to the medium size maze.\n",
        "Solve the maze with your implementations for DFS, BFS, and implement in addition IDS (iterative deepening search using DFS).\n",
        "\n",
        "Run experiments to show which implementations find the optimal solution and which do not. Discuss why that is the case."
      ]
    },
    {
      "cell_type": "code",
      "execution_count": 125,
      "metadata": {
        "id": "pvieP4ulqUGM"
      },
      "outputs": [],
      "source": [
        "# Come back and add the differrent return values\n",
        "\n",
        "def is_cycle(node):\n",
        "    # Check for all cycles\n",
        "    temp_node = node\n",
        "    while temp_node.parent != None:\n",
        "        if temp_node.parent.pos == node.pos:\n",
        "            return True\n",
        "        temp_node = temp_node.parent\n",
        "    return False\n",
        "\n",
        "def idf(maze, start, goal):\n",
        "    for depth in range(0,500):\n",
        "        result = dfs(maze, start, goal, depth)\n",
        "        if result != None:\n",
        "            return result\n",
        "\n",
        "def dfs(maze, start, goal, depth):\n",
        "    actions = {\"North\": (-1, 0), \"South\": (1, 0), \"East\": (0, 1), \"West\": (0, -1)}\n",
        "    frontier = [Node(start, None, None, 0)]\n",
        "\n",
        "    while frontier:\n",
        "        current_node = frontier.pop(0)\n",
        "        # print(current_node.pos)\n",
        "\n",
        "        if current_node.pos == goal:\n",
        "            return current_node.get_path_from_root()\n",
        "        \n",
        "        if current_node.cost < depth:\n",
        "            #return cutoff\n",
        "            continue\n",
        "\n",
        "        elif not is_cycle(current_node):\n",
        "            for action in actions:\n",
        "                neighbor_pos = (current_node.pos[0] + actions[action][0], current_node.pos[1] + actions[action][1])\n",
        "                if mh.look(maze, neighbor_pos) == \"X\":\n",
        "                    continue\n",
        "                neighbor_node = Node(neighbor_pos, current_node, action, current_node.cost + 1)\n",
        "                 # Check if the neighbor is already in the frontier, if so remove it and add the new one\n",
        "                for node in frontier:\n",
        "                    if node.pos == neighbor_node.pos:\n",
        "                        frontier.remove(node)\n",
        "                frontier.append(neighbor_node)\n",
        "    return None"
      ]
    },
    {
      "cell_type": "code",
      "execution_count": 126,
      "metadata": {},
      "outputs": [
        {
          "data": {
            "image/png": "[encoded data removed]",
            "text/plain": [
              "<Figure size 640x480 with 1 Axes>"
            ]
          },
          "metadata": {
            "image/png": {
              "height": 413,
              "width": 416
            }
          },
          "output_type": "display_data"
        },
        {
          "name": "stdout",
          "output_type": "stream",
          "text": [
            "(10, 1) ; Action: None ; Cost: 0\n",
            "(10, 2) ; Action: East ; Cost: 1\n",
            "(10, 3) ; Action: East ; Cost: 2\n",
            "(10, 4) ; Action: East ; Cost: 3\n",
            "(10, 5) ; Action: East ; Cost: 4\n",
            "(10, 6) ; Action: East ; Cost: 5\n",
            "(10, 7) ; Action: East ; Cost: 6\n",
            "(10, 8) ; Action: East ; Cost: 7\n",
            "(9, 8) ; Action: North ; Cost: 8\n",
            "(8, 8) ; Action: North ; Cost: 9\n",
            "(7, 8) ; Action: North ; Cost: 10\n",
            "(6, 8) ; Action: North ; Cost: 11\n",
            "(5, 8) ; Action: North ; Cost: 12\n",
            "(4, 8) ; Action: North ; Cost: 13\n",
            "(3, 8) ; Action: North ; Cost: 14\n",
            "(2, 8) ; Action: North ; Cost: 15\n",
            "(2, 7) ; Action: West ; Cost: 16\n",
            "(2, 6) ; Action: West ; Cost: 17\n",
            "(2, 5) ; Action: West ; Cost: 18\n",
            "(2, 4) ; Action: West ; Cost: 19\n",
            "(2, 3) ; Action: West ; Cost: 20\n",
            "(2, 2) ; Action: West ; Cost: 21\n",
            "(2, 1) ; Action: West ; Cost: 22\n",
            "(1, 1) ; Action: North ; Cost: 23\n"
          ]
        }
      ],
      "source": [
        "with open(\"./mazes/loops_maze.txt\", \"r\") as f:\n",
        "    maze_str = f.read()\n",
        "maze = mh.parse_maze(maze_str)\n",
        "mh.show_maze(maze)\n",
        "\n",
        "result = idf(maze, mh.find_pos(maze, \"S\"), mh.find_pos(maze, \"G\"))\n",
        "for node in result:\n",
        "    print(node.pos, '; Action:', node.action, '; Cost:', node.cost)"
      ]
    },
    {
      "cell_type": "markdown",
      "metadata": {
        "id": "oFDWoVUgqUGN"
      },
      "source": [
        "## More advanced tasks to think about\n",
        "\n",
        "Instead of defining each square as a state, use only intersections as states. Now the storage requirement is reduced, but the path length between two intersections can be different. If we use total path length measured as the number of squares as path cost, how can we make sure that BFS and iterative deepening search is optimal? Change the code to do so."
      ]
    },
    {
      "cell_type": "code",
      "execution_count": 127,
      "metadata": {
        "id": "ki-GTTG-qUGS"
      },
      "outputs": [],
      "source": [
        "# Your code/answer goes here"
      ]
    },
    {
      "cell_type": "markdown",
      "metadata": {
        "id": "iIrnkVv3qUGS"
      },
      "source": [
        "Modify your A* search to add weights (see text book) and explore how different weights influence the result."
      ]
    },
    {
      "cell_type": "code",
      "execution_count": 128,
      "metadata": {
        "id": "JxJn_3oZqUGS"
      },
      "outputs": [],
      "source": [
        "# Your code/answer goes here"
      ]
    },
    {
      "cell_type": "markdown",
      "metadata": {
        "id": "rICbThmwqUGS"
      },
      "source": [
        "What happens if the agent does not know the layout of the maze in advance (i.e., faces an unkown, only partially observable environment)? How does the environment look then (PEAS description)? How would you implement a rational agent to solve the maze? What if the agent still has a GPS device to tell the distance to the goal?"
      ]
    },
    {
      "cell_type": "code",
      "execution_count": 129,
      "metadata": {
        "id": "OCxZQYT4qUGS"
      },
      "outputs": [],
      "source": [
        "# Your code/answer goes here"
      ]
    }
  ],
  "metadata": {
    "colab": {
      "provenance": []
    },
    "kernelspec": {
      "display_name": "Python 3 (ipykernel)",
      "language": "python",
      "name": "python3"
    },
    "language_info": {
      "codemirror_mode": {
        "name": "ipython",
        "version": 3
      },
      "file_extension": ".py",
      "mimetype": "text/x-python",
      "name": "python",
      "nbconvert_exporter": "python",
      "pygments_lexer": "ipython3",
      "version": "3.8.17"
    }
  },
  "nbformat": 4,
  "nbformat_minor": 0
}
