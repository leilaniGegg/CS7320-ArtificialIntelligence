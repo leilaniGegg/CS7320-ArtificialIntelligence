{
  "cells": [
    {
      "cell_type": "markdown",
      "metadata": {
        "id": "fN6yeuT7qUGA"
      },
      "source": [
        "# Search: Solving a Maze Using a Goal-based Agent\n",
        "\n",
        "Student Name: Leilani Guzman\n",
        "\n",
        "## Instructions\n",
        "\n",
        "Total Points: Undergrads 100 / Graduate students 110\n",
        "\n",
        "Complete this notebook. Use the provided notebook cells and insert additional code and markdown cells as needed. Submit the completely rendered notebook as a PDF file.\n",
        "\n",
        "\n",
        "## Introduction\n",
        "\n",
        "The agent has a map of the maze it is in and the environment is assumed to be **deterministic, discrete, and known.** The agent must use the map to plan a path through the maze from the starting location $S$ to the goal location $G$.  This is a planing exercise for a goal-based agent, so you do not need to implement an environment, just use the map to search for a path. Once the plan is made, the agent in a deterministic environment (i.e., the transition function is deterministic with the outcome of each state/action pair fixed and no randomness) can just follow the path and does not need to care about the percepts.\n",
        "This is also called an **[open-loop system](https://en.wikipedia.org/wiki/Open-loop_controller).**\n",
        "The execution phase is trivial and we do not implement it in this exercise.\n",
        "\n",
        "Tree search algorithm implementations that you find online and used in general algorithms courses have often a different aim. These algorithms assume that you already have a tree in memory. We are interested in dynamically creating a search tree with the aim of finding a good/the best path from the root noteto the goal state. Follow the pseudo code presented in the text book (and replicated in the slides) closely. Ideally, we would like to search only a small part of the maze, i.e., create a search tree with as few nodes as possible.\n",
        "\n",
        "Several mazes for this exercise are stored as text files. Here is the small example maze:"
      ]
    },
    {
      "cell_type": "code",
      "execution_count": 2,
      "metadata": {
        "id": "a6GTFOwwqUGE",
        "outputId": "9c2c766b-83a5-4566-9dd4-48636c1b77c5"
      },
      "outputs": [
        {
          "name": "stdout",
          "output_type": "stream",
          "text": [
            "XXXXXXXXXXXXXXXXXXXXXX\n",
            "X XX        X X      X\n",
            "X    XXXXXX X XXXXXX X\n",
            "XXXXXX     S  X      X\n",
            "X    X XXXXXX XX XXXXX\n",
            "X XXXX X         X   X\n",
            "X        XXX XXX   X X\n",
            "XXXXXXXXXX    XXXXXX X\n",
            "XG         XX        X\n",
            "XXXXXXXXXXXXXXXXXXXXXX\n",
            "\n"
          ]
        }
      ],
      "source": [
        "with open(\"./mazes/small_maze.txt\", \"r\") as f:\n",
        "    maze_str = f.read()\n",
        "print(maze_str)"
      ]
    },
    {
      "cell_type": "markdown",
      "metadata": {
        "id": "80Mxv-K8qUGG"
      },
      "source": [
        "__Note:__ The mazes above contains cycles and therefore the state space may not form proper trees unless cycles are prevented. Therfore, you will need to deal with cycle detection in your code."
      ]
    },
    {
      "cell_type": "markdown",
      "metadata": {
        "id": "IqcBQ-SOqUGG"
      },
      "source": [
        "## Parsing and pretty printing the maze\n",
        "\n",
        "The maze can also be displayed in color using code in the module [maze_helper.py](maze_helper.py). The code parses the string representing the maze and converts it into a `numpy` 2d array which you can use in your implementation. Position are represented as a 2-tuple of the form `(row, col)`."
      ]
    },
    {
      "cell_type": "code",
      "execution_count": 3,
      "metadata": {
        "id": "xod92iIlqUGG",
        "outputId": "b809d8c3-dba4-44a6-8680-1c046ca214f0",
        "tags": []
      },
      "outputs": [
        {
          "name": "stdout",
          "output_type": "stream",
          "text": [
            "Position(0,0): X\n",
            "Position(8,1): G\n"
          ]
        }
      ],
      "source": [
        "import maze_helper as mh\n",
        "\n",
        "maze = mh.parse_maze(maze_str)\n",
        "\n",
        "# look at a position in the maze by subsetting the 2d array\n",
        "print(\"Position(0,0):\", maze[0, 0])\n",
        "\n",
        "# there is also a helper function called `look(maze, pos)` available\n",
        "# which uses a 2-tuple for the position.\n",
        "print(\"Position(8,1):\", mh.look(maze, (8, 1)))"
      ]
    },
    {
      "cell_type": "markdown",
      "metadata": {
        "id": "sYnwk3ebqUGH"
      },
      "source": [
        "A helper function to visualize the maze is also available."
      ]
    },
    {
      "cell_type": "code",
      "execution_count": 4,
      "metadata": {
        "id": "tPnSSZI_qUGH",
        "outputId": "995ce46a-fb43-4190-cc32-fe6b17dbcf27"
      },
      "outputs": [
        {
          "data": {
            "image/png": "[encoded data removed]",
            "text/plain": [
              "<Figure size 640x480 with 1 Axes>"
            ]
          },
          "metadata": {
            "image/png": {
              "height": 269,
              "width": 534
            }
          },
          "output_type": "display_data"
        }
      ],
      "source": [
        "%matplotlib inline\n",
        "%config InlineBackend.figure_format = 'retina'\n",
        "# use higher resolution images in notebook\n",
        "\n",
        "mh.show_maze(maze)"
      ]
    },
    {
      "cell_type": "markdown",
      "metadata": {
        "id": "Q5JDHKExqUGI"
      },
      "source": [
        "Find the position of the start and the goal using the helper function `find_pos()`"
      ]
    },
    {
      "cell_type": "code",
      "execution_count": 5,
      "metadata": {
        "id": "Eww72lzuqUGI",
        "outputId": "a4a5906c-b70a-415a-e2bd-1194eb6d3fcb"
      },
      "outputs": [
        {
          "name": "stdout",
          "output_type": "stream",
          "text": [
            "Start location: (3, 11)\n",
            "Goal location: (8, 1)\n"
          ]
        }
      ],
      "source": [
        "print(\"Start location:\", mh.find_pos(maze, what = \"S\"))\n",
        "print(\"Goal location:\", mh.find_pos(maze, what = \"G\"))"
      ]
    },
    {
      "cell_type": "markdown",
      "metadata": {
        "id": "Ru5pDkV3qUGI"
      },
      "source": [
        "Helper function documentation."
      ]
    },
    {
      "cell_type": "code",
      "execution_count": 6,
      "metadata": {
        "id": "RqErdziGqUGJ",
        "outputId": "97f9ad33-ba9c-4ad9-85a9-f34d6a1af7e6"
      },
      "outputs": [
        {
          "name": "stdout",
          "output_type": "stream",
          "text": [
            "Help on module maze_helper:\n",
            "\n",
            "NAME\n",
            "    maze_helper\n",
            "\n",
            "DESCRIPTION\n",
            "    Code for the Maze Assignment by Michael Hahsler\n",
            "    Usage: \n",
            "        import maze_helper as mh\n",
            "        mh.show_some_mazes()\n",
            "\n",
            "FUNCTIONS\n",
            "    find_pos(maze, what='S')\n",
            "        Find start/goal in a maze and returns the first one. \n",
            "        Caution: there is no error checking!\n",
            "        \n",
            "        Parameters:\n",
            "        maze: a array with characters prodced by parse_maze()\n",
            "        what: the letter to be found ('S' for start and 'G' for goal)\n",
            "        \n",
            "        Returns:\n",
            "        a tupple (x, y) for the found position.\n",
            "    \n",
            "    look(maze, pos)\n",
            "        Look at the label of a square with the position as an array of the form (x, y).\n",
            "    \n",
            "    parse_maze(maze_str)\n",
            "        Convert a maze as a string into a 2d numpy array\n",
            "    \n",
            "    show_maze(maze, fontsize=10)\n",
            "        Display a (parsed) maze as an image.\n",
            "    \n",
            "    welcome()\n",
            "        Welcome message.\n",
            "\n",
            "FILE\n",
            "    c:\\users\\leila\\documents\\smu\\cs7320-artificialintelligence\\assignment 3\\maze_helper.py\n",
            "\n",
            "\n"
          ]
        }
      ],
      "source": [
        "help(mh)"
      ]
    },
    {
      "cell_type": "markdown",
      "metadata": {
        "id": "gTXH11XxqUGJ"
      },
      "source": [
        "## Tree structure\n",
        "\n",
        "Here is an implementation of the basic node structure for the search algorithms (see Fig 3.7 on page 73). I have added a method that extracts the path from the root node to the current node. It can be used to get the path when the search is completed."
      ]
    },
    {
      "cell_type": "code",
      "execution_count": 7,
      "metadata": {
        "id": "Re6MvSZiqUGJ"
      },
      "outputs": [],
      "source": [
        "class Node:\n",
        "    def __init__(self, pos, parent, action, cost):\n",
        "        self.pos = tuple(pos)    # the state; positions are (row,col)\n",
        "        self.parent = parent     # reference to parent node. None means root node.\n",
        "        self.action = action     # action used in the transition function (root node has None)\n",
        "        self.cost = cost         # for uniform cost this is the depth. It is also g(n) for A* search\n",
        "\n",
        "    def __str__(self):\n",
        "        return f\"Node - pos = {self.pos}; action = {self.action}; cost = {self.cost}\"\n",
        "\n",
        "    def get_path_from_root(self):\n",
        "        \"\"\"returns nodes on the path from the root to the current node.\"\"\"\n",
        "        node = self\n",
        "        path = [node]\n",
        "\n",
        "        while not node.parent is None:\n",
        "            node = node.parent\n",
        "            path.append(node)\n",
        "\n",
        "        path.reverse()\n",
        "\n",
        "        return(path)"
      ]
    },
    {
      "cell_type": "markdown",
      "metadata": {
        "id": "vLwnvN1ZqUGJ"
      },
      "source": [
        "If needed, then you can add more fields to the class like the heuristic value $h(n)$ or $f(n)$.\n",
        "\n",
        "Examples for how to create and use a tree and information on memory management can be found [here](../HOWTOs/trees.ipynb)."
      ]
    },
    {
      "cell_type": "markdown",
      "metadata": {
        "id": "nXpMlIrzqUGJ"
      },
      "source": [
        "# Tasks\n",
        "\n",
        "The goal is to:\n",
        "\n",
        "1. Implement the following search algorithms for solving different mazes:\n",
        "\n",
        "    - Breadth-first search (BFS)\n",
        "    - Depth-first search (DFS)\n",
        "    - Greedy best-first search (GBFS)\n",
        "    - A* search\n",
        "\n",
        "2. Run each of the above algorithms on the\n",
        "    - [small maze](small_maze.txt),\n",
        "    - [medium maze](medium_maze.txt),\n",
        "    - [large maze](large_maze.txt),\n",
        "    - [open maze](open_maze.txt),\n",
        "    - [wall maze](wall_maze.txt),\n",
        "    - [loops maze](loops_maze.txt),\n",
        "    - [empty maze](empty_maze.txt), and\n",
        "    - [empty 2_maze](empty_2_maze.txt).\n",
        "    \n",
        "3. For each problem instance and each search algorithm, report the following in a table:\n",
        "\n",
        "    - The solution and its path cost\n",
        "    - Total number of nodes expanded\n",
        "    - Maximum tree depth\n",
        "    - Maximum size of the frontier\n",
        "\n",
        "4. Display each solution by marking every maze square (or state) visited and the squares on the final path.\n",
        "\n",
        "## General [10 Points]\n",
        "\n",
        "1. Make sure that you use the latest version of this notebook. Sync your forked repository and pull the latest revision.\n",
        "2. Your implementation can use libraries like math, numpy, scipy, but not libraries that implement inteligent agents or complete search algorithms. Try to keep the code simple! In this course, we want to learn about the algorithms and we often do not need to use object-oriented design.\n",
        "3. You notebook needs to be formated professionally.\n",
        "    - Add additional markdown blocks for your description, comments in the code, add tables and use mathplotlib to produce charts where appropriate\n",
        "    - Do not show debugging output or include an excessive amount of output.\n",
        "    - Check that your PDF file is readable. For example, long lines are cut off in the PDF file. You don't have control over page breaks, so do not worry about these.\n",
        "4. Document your code. Add a short discussion of how your implementation works and your design choices."
      ]
    },
    {
      "cell_type": "markdown",
      "metadata": {
        "id": "RVQP2oQ0qUGK"
      },
      "source": [
        "## Task 1: Defining the search problem and determining the problem size [10 Points]\n",
        "\n",
        "Define the components of the search problem:\n",
        "\n",
        "* Initial state\n",
        "* Actions\n",
        "* Transition model\n",
        "* Goal state\n",
        "* Path cost\n",
        "\n",
        "Use verbal descriptions, variables and equations as appropriate.\n",
        "\n",
        "*Note:* You can swich the next block from code to Markdown and use formating."
      ]
    },
    {
      "cell_type": "markdown",
      "metadata": {
        "id": "Ka1DGZmBqUGK"
      },
      "source": [
        "### ANSWERS\n",
        "**Initial state**: the maze layout itself and the starting position of the agent.\n",
        "\n",
        "**Actions**: The only actions the agent can perform are {North, South, East, or West}. This set of actions is represented as set *A*.\n",
        "\n",
        "**Transition Model**: The function that determines the new position of the agent after performing a certain action\n",
        "\n",
        "**Gaoal State**: The goal state is the position of the goal (G) in the maze, represented as a coordinate (x,y) or (row, col)\n",
        "\n",
        "**Path Cost**: Each step the agent takes has a cost of 1. The path cost is the total number of steps it takes the agent to reach the goal state."
      ]
    },
    {
      "cell_type": "markdown",
      "metadata": {
        "id": "sp0pLwycqUGK"
      },
      "source": [
        "Give some estimates for the problem size:\n",
        "\n",
        "* $n$: state space size\n",
        "* $d$: depth of the optimal solution\n",
        "* $m$: maximum depth of tree\n",
        "* $b$: maximum branching factor\n",
        "\n",
        "Describe how you would determin these values for a given maze."
      ]
    },
    {
      "cell_type": "code",
      "execution_count": null,
      "metadata": {
        "id": "1juMJwhTqUGK"
      },
      "outputs": [],
      "source": [
        "# Your answer goes here"
      ]
    },
    {
      "cell_type": "markdown",
      "metadata": {
        "id": "PoghKR2wqUGL"
      },
      "source": [
        "## Task 2: Uninformed search: Breadth-first and depth-first [40 Points]\n",
        "\n",
        "Implement these search strategies. Follow the pseudocode in the textbook/slides. You can use the tree structure shown above to extract the final path from your solution.\n",
        "\n",
        "__Notes:__\n",
        "* You can find maze solving implementations online that use the map to store information. While this is an effective idea for this two-dimensional navigation problem, it typically cannot be used for other search problems. Therefore, follow the textbook and only store information in the tree created during search, and use the `reached` and `frontier` data structures.\n",
        "* DSF can be implemented using the BFS tree search algorithm and simply changing the order in which the frontier is expanded (this is equivalent to best-first search with path length as the criterion to expand the next node). However, to take advantage of the significantly smaller memory footprint of DFS, you need to implement DFS in a different way without a `reached` data structure and by releasing the memory for nodes that are not needed anymore.\n",
        "* If DFS does not use a `reached` data structure, then its cycle checking abilities are limited. Remember, that DSF is incomplete if cycles cannot be prevented. You will see in your experiments that open spaces are a problem."
      ]
    },
    {
      "cell_type": "code",
      "execution_count": 12,
      "metadata": {
        "id": "mRzz3j_jqUGL"
      },
      "outputs": [],
      "source": [
        "########### BFS ###########\n",
        "def bfs(maze, start, goal):\n",
        "    # Set the current node as the start node\n",
        "    current_node = Node(start, None, None, 0)\n",
        "\n",
        "    if current_node.pos == goal:\n",
        "        return current_node.get_path_from_root()\n",
        "    #create frontier queue with current node\n",
        "    frontier = [current_node]\n",
        "    reached = [current_node.pos]\n",
        "    while frontier.__len__() > 0:\n",
        "        current_node = frontier.pop(0)\n",
        "        # For each possibe neighbor of current node without using mh\n",
        "        actions = {\"North\": (-1, 0), \"South\": (1, 0), \"East\": (0, 1), \"West\": (0, -1)}\n",
        "        for action in actions:\n",
        "            #get neighbor position if it is not a wall\n",
        "            neighbor_pos = (current_node.pos[0] + actions[action][0], current_node.pos[1] + actions[action][1])\n",
        "            if neighbor_pos in reached or mh.look(maze, neighbor_pos) == \"X\":\n",
        "                continue\n",
        "            # Create neighbor node\n",
        "            neighbor_node = Node(neighbor_pos, current_node, action, current_node.cost + 1)\n",
        "            # Check if neighbor is goal\n",
        "            if neighbor_pos == goal:\n",
        "                return neighbor_node.get_path_from_root()\n",
        "            # Add neighbor to reached and frontier\n",
        "            reached.append(neighbor_pos)\n",
        "            frontier.append(neighbor_node)\n",
        "    return None "
      ]
    },
    {
      "cell_type": "code",
      "execution_count": 28,
      "metadata": {},
      "outputs": [
        {
          "data": {
            "image/png": "[encoded data removed]",
            "text/plain": [
              "<Figure size 640x480 with 1 Axes>"
            ]
          },
          "metadata": {
            "image/png": {
              "height": 413,
              "width": 416
            }
          },
          "output_type": "display_data"
        },
        {
          "name": "stdout",
          "output_type": "stream",
          "text": [
            "(10, 1) ; Action: None ; Cost: 0\n",
            "(10, 2) ; Action: East ; Cost: 1\n",
            "(10, 3) ; Action: East ; Cost: 2\n",
            "(10, 4) ; Action: East ; Cost: 3\n",
            "(10, 5) ; Action: East ; Cost: 4\n",
            "(10, 6) ; Action: East ; Cost: 5\n",
            "(10, 7) ; Action: East ; Cost: 6\n",
            "(10, 8) ; Action: East ; Cost: 7\n",
            "(9, 8) ; Action: North ; Cost: 8\n",
            "(8, 8) ; Action: North ; Cost: 9\n",
            "(7, 8) ; Action: North ; Cost: 10\n",
            "(6, 8) ; Action: North ; Cost: 11\n",
            "(5, 8) ; Action: North ; Cost: 12\n",
            "(4, 8) ; Action: North ; Cost: 13\n",
            "(3, 8) ; Action: North ; Cost: 14\n",
            "(2, 8) ; Action: North ; Cost: 15\n",
            "(1, 8) ; Action: North ; Cost: 16\n",
            "(1, 7) ; Action: West ; Cost: 17\n",
            "(1, 6) ; Action: West ; Cost: 18\n",
            "(1, 5) ; Action: West ; Cost: 19\n",
            "(1, 4) ; Action: West ; Cost: 20\n",
            "(1, 3) ; Action: West ; Cost: 21\n",
            "(1, 2) ; Action: West ; Cost: 22\n",
            "(1, 1) ; Action: West ; Cost: 23\n"
          ]
        }
      ],
      "source": [
        "with open(\"./mazes/small_maze.txt\", \"r\") as f:\n",
        "    maze_str = f.read()\n",
        "maze = mh.parse_maze(maze_str)\n",
        "mh.show_maze(maze)\n",
        "\n",
        "result = bfs(maze, mh.find_pos(maze, \"S\"), mh.find_pos(maze, \"G\"))\n",
        "for node in result:\n",
        "    print(node.pos, '; Action:', node.action, '; Cost:', node.cost)"
      ]
    },
    {
      "cell_type": "code",
      "execution_count": 25,
      "metadata": {},
      "outputs": [],
      "source": [
        "########### DFS ###########\n",
        "def dfs(maze, start, goal):\n",
        "    # Set the current node as the start node\n",
        "    current_node = Node(start, None, None, 0)\n",
        "\n",
        "    if current_node.pos == goal:\n",
        "        return current_node.get_path_from_root()\n",
        "    #create frontier queue with current node\n",
        "    frontier = [current_node]\n",
        "    reached = [current_node.pos]\n",
        "    while frontier.__len__() > 0:\n",
        "        current_node = frontier.pop()\n",
        "        # For each possibe neighbor of current node without using mh\n",
        "        actions = {\"North\": (-1, 0), \"South\": (1, 0), \"East\": (0, 1), \"West\": (0, -1)}\n",
        "        for action in actions:\n",
        "            #get neighbor position if it is not a wall\n",
        "            neighbor_pos = (current_node.pos[0] + actions[action][0], current_node.pos[1] + actions[action][1])\n",
        "            if neighbor_pos in reached or mh.look(maze, neighbor_pos) == \"X\":\n",
        "                continue\n",
        "            # Create neighbor node\n",
        "            neighbor_node = Node(neighbor_pos, current_node, action, current_node.cost + 1)\n",
        "            # Check if neighbor is goal\n",
        "            if neighbor_pos == goal:\n",
        "                return neighbor_node.get_path_from_root()\n",
        "            # Add neighbor to reached and frontier\n",
        "            reached.append(neighbor_pos)\n",
        "            frontier.append(neighbor_node)\n",
        "    return None"
      ]
    },
    {
      "cell_type": "code",
      "execution_count": 26,
      "metadata": {},
      "outputs": [
        {
          "data": {
            "image/png": "[encoded data removed]",
            "text/plain": [
              "<Figure size 640x480 with 1 Axes>"
            ]
          },
          "metadata": {
            "image/png": {
              "height": 413,
              "width": 416
            }
          },
          "output_type": "display_data"
        },
        {
          "name": "stdout",
          "output_type": "stream",
          "text": [
            "(10, 1) ; Action: None ; Cost: 0\n",
            "(10, 2) ; Action: East ; Cost: 1\n",
            "(10, 3) ; Action: East ; Cost: 2\n",
            "(10, 4) ; Action: East ; Cost: 3\n",
            "(10, 5) ; Action: East ; Cost: 4\n",
            "(10, 6) ; Action: East ; Cost: 5\n",
            "(10, 7) ; Action: East ; Cost: 6\n",
            "(10, 8) ; Action: East ; Cost: 7\n",
            "(10, 9) ; Action: East ; Cost: 8\n",
            "(10, 10) ; Action: East ; Cost: 9\n",
            "(9, 10) ; Action: North ; Cost: 10\n",
            "(8, 10) ; Action: North ; Cost: 11\n",
            "(7, 10) ; Action: North ; Cost: 12\n",
            "(6, 10) ; Action: North ; Cost: 13\n",
            "(6, 9) ; Action: West ; Cost: 14\n",
            "(6, 8) ; Action: West ; Cost: 15\n",
            "(5, 8) ; Action: North ; Cost: 16\n",
            "(4, 8) ; Action: North ; Cost: 17\n",
            "(3, 8) ; Action: North ; Cost: 18\n",
            "(2, 8) ; Action: North ; Cost: 19\n",
            "(2, 7) ; Action: West ; Cost: 20\n",
            "(2, 6) ; Action: West ; Cost: 21\n",
            "(2, 5) ; Action: West ; Cost: 22\n",
            "(2, 4) ; Action: West ; Cost: 23\n",
            "(2, 3) ; Action: West ; Cost: 24\n",
            "(2, 2) ; Action: West ; Cost: 25\n",
            "(2, 1) ; Action: West ; Cost: 26\n",
            "(1, 1) ; Action: North ; Cost: 27\n"
          ]
        }
      ],
      "source": [
        "mh.show_maze(maze)\n",
        "\n",
        "result = dfs(maze, mh.find_pos(maze, \"S\"), mh.find_pos(maze, \"G\"))\n",
        "for node in result:\n",
        "    print(node.pos, '; Action:', node.action, '; Cost:', node.cost)"
      ]
    },
    {
      "cell_type": "markdown",
      "metadata": {
        "id": "VO5Rrv6QqUGL"
      },
      "source": [
        "### How does BFS and DFS deal with loops (cycles)?\n",
        "Discussion"
      ]
    },
    {
      "cell_type": "markdown",
      "metadata": {
        "id": "L5knGnmJqUGL"
      },
      "source": [
        "### Are your implementations complete and optimal? Explain why. What is the time and space complexity of each of **your** implementations?\n",
        "Discussion"
      ]
    },
    {
      "cell_type": "markdown",
      "metadata": {
        "id": "jasFP8CvqUGL"
      },
      "source": [
        "## Task 3: Informed search: Implement greedy best-first search and A* search  [20 Points]\n",
        "\n",
        "You can use the map to estimate the distance from your current position to the goal using the Manhattan distance (see https://en.wikipedia.org/wiki/Taxicab_geometry) as a heuristic function. Both algorithms are based on Best-First search which requires only a small change from the BFS algorithm you have already implemented (see textbook/slides)."
      ]
    },
    {
      "cell_type": "code",
      "execution_count": null,
      "metadata": {
        "id": "SJOkXmDBqUGL"
      },
      "outputs": [],
      "source": [
        "# Your code goes here"
      ]
    },
    {
      "cell_type": "markdown",
      "metadata": {
        "id": "Zz8yqJ9AqUGM"
      },
      "source": [
        "Are your implementations complete and optimal? What is the time and space complexity?"
      ]
    },
    {
      "cell_type": "code",
      "execution_count": null,
      "metadata": {
        "id": "N9FP401hqUGM"
      },
      "outputs": [],
      "source": [
        "# Discussion"
      ]
    },
    {
      "cell_type": "markdown",
      "metadata": {
        "id": "oFkxyEvdqUGM"
      },
      "source": [
        "## Task 4: Comparison and discussion [20 Points]\n",
        "\n",
        "Run experiments to compare the implemented algorithms.\n",
        "\n",
        "How to deal with issues:\n",
        "\n",
        "* Your implementation returns unexpected results: Try to debug and fix the code. Visualizing the maze, the current path and the frontier after every step is very helpful. If the code still does not work, then mark the result with an asterisk (*) and describe the issue below the table.\n",
        "\n",
        "* Your implementation cannot consistently solve a specific maze and ends up in an infinite loop:\n",
        "    Debug. If it is a shortcoming of the algorithm/implementation, then put \"N/A*\" in the results table and describe why this is happening."
      ]
    },
    {
      "cell_type": "code",
      "execution_count": null,
      "metadata": {
        "id": "rJkURutqqUGM"
      },
      "outputs": [],
      "source": [
        "# Add code"
      ]
    },
    {
      "cell_type": "markdown",
      "metadata": {
        "id": "BDkeTivXqUGM"
      },
      "source": [
        "Complete the following table for each maze.\n",
        "\n",
        "__Small maze__\n",
        "\n",
        "| algorithm | path cost | # of nodes expanded | max tree depth | max # of nodes in memory | max frontier size |\n",
        "|-----------|-----------|----------------|----------------|---------------|-------------------|\n",
        "| BFS       |           |                |                |               |                   |\n",
        "| DFS       |           |                |                |               |                   |\n",
        "| GBS       |           |                |                |               |                   |\n",
        "| A*        |           |                |                |               |                   |\n",
        "\n",
        "__Medium Maze__\n",
        "\n",
        "..."
      ]
    },
    {
      "cell_type": "markdown",
      "metadata": {
        "id": "w8mRRkXQqUGM"
      },
      "source": [
        "Present the results as using charts (see [Python Code Examples/charts and tables](../HOWTOs/charts_and_tables.ipynb))."
      ]
    },
    {
      "cell_type": "code",
      "execution_count": null,
      "metadata": {
        "id": "JMZ8X5c6qUGM"
      },
      "outputs": [],
      "source": [
        "# Add charts"
      ]
    },
    {
      "cell_type": "markdown",
      "metadata": {
        "id": "5FXiORTpqUGM"
      },
      "source": [
        "Discuss the most important lessons you have learned from implementing the different search strategies."
      ]
    },
    {
      "cell_type": "code",
      "execution_count": null,
      "metadata": {
        "id": "p6lLDvjPqUGM"
      },
      "outputs": [],
      "source": [
        "# Add discussion"
      ]
    },
    {
      "cell_type": "markdown",
      "metadata": {
        "id": "7WRbm_pBqUGM"
      },
      "source": [
        "## Graduate student advanced task: IDS and Multiple goals [10 Points]\n",
        "\n",
        "__Undergraduate students:__ This is a bonus task you can attempt if you like [+5 Bonus Points].\n",
        "\n",
        "Create a few mazes with multiple goals by adding one or two more goals to the medium size maze.\n",
        "Solve the maze with your implementations for DFS, BFS, and implement in addition IDS (iterative deepening search using DFS).\n",
        "\n",
        "Run experiments to show which implementations find the optimal solution and which do not. Discuss why that is the case."
      ]
    },
    {
      "cell_type": "code",
      "execution_count": null,
      "metadata": {
        "id": "pvieP4ulqUGM"
      },
      "outputs": [],
      "source": [
        "# Your code/answer goes here"
      ]
    },
    {
      "cell_type": "markdown",
      "metadata": {
        "id": "oFDWoVUgqUGN"
      },
      "source": [
        "## More advanced tasks to think about\n",
        "\n",
        "Instead of defining each square as a state, use only intersections as states. Now the storage requirement is reduced, but the path length between two intersections can be different. If we use total path length measured as the number of squares as path cost, how can we make sure that BFS and iterative deepening search is optimal? Change the code to do so."
      ]
    },
    {
      "cell_type": "code",
      "execution_count": null,
      "metadata": {
        "id": "ki-GTTG-qUGS"
      },
      "outputs": [],
      "source": [
        "# Your code/answer goes here"
      ]
    },
    {
      "cell_type": "markdown",
      "metadata": {
        "id": "iIrnkVv3qUGS"
      },
      "source": [
        "Modify your A* search to add weights (see text book) and explore how different weights influence the result."
      ]
    },
    {
      "cell_type": "code",
      "execution_count": null,
      "metadata": {
        "id": "JxJn_3oZqUGS"
      },
      "outputs": [],
      "source": [
        "# Your code/answer goes here"
      ]
    },
    {
      "cell_type": "markdown",
      "metadata": {
        "id": "rICbThmwqUGS"
      },
      "source": [
        "What happens if the agent does not know the layout of the maze in advance (i.e., faces an unkown, only partially observable environment)? How does the environment look then (PEAS description)? How would you implement a rational agent to solve the maze? What if the agent still has a GPS device to tell the distance to the goal?"
      ]
    },
    {
      "cell_type": "code",
      "execution_count": null,
      "metadata": {
        "id": "OCxZQYT4qUGS"
      },
      "outputs": [],
      "source": [
        "# Your code/answer goes here"
      ]
    }
  ],
  "metadata": {
    "colab": {
      "provenance": []
    },
    "kernelspec": {
      "display_name": "Python 3 (ipykernel)",
      "language": "python",
      "name": "python3"
    },
    "language_info": {
      "codemirror_mode": {
        "name": "ipython",
        "version": 3
      },
      "file_extension": ".py",
      "mimetype": "text/x-python",
      "name": "python",
      "nbconvert_exporter": "python",
      "pygments_lexer": "ipython3",
      "version": "3.8.17"
    }
  },
  "nbformat": 4,
  "nbformat_minor": 0
}
